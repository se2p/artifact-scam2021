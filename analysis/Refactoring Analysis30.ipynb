{
 "cells": [
  {
   "cell_type": "markdown",
   "id": "f9c5f329",
   "metadata": {},
   "source": [
    "## Evaluation"
   ]
  },
  {
   "cell_type": "markdown",
   "id": "e3691911",
   "metadata": {},
   "source": [
    "### General imports"
   ]
  },
  {
   "cell_type": "code",
   "execution_count": 1,
   "id": "55c474f0",
   "metadata": {},
   "outputs": [],
   "source": [
    "import sys\n",
    "import random\n",
    "import math\n",
    "import matplotlib.pyplot as plt\n",
    "import pandas as pd\n",
    "import seaborn as sns\n",
    "import numpy as np\n",
    "from scipy.stats import mannwhitneyu, wilcoxon\n",
    "sns.set(font_scale=1.4)\n",
    "sns.set_style(\"white\")\n",
    "\n",
    "df = pd.read_csv(\"../data/results30.csv\")"
   ]
  },
  {
   "cell_type": "markdown",
   "id": "d5bf87bd",
   "metadata": {},
   "source": [
    "### Total number of projects"
   ]
  },
  {
   "cell_type": "code",
   "execution_count": 2,
   "id": "a01b8ef0",
   "metadata": {},
   "outputs": [
    {
     "data": {
      "text/plain": [
       "1000"
      ]
     },
     "execution_count": 2,
     "metadata": {},
     "output_type": "execute_result"
    }
   ],
   "source": [
    "projects = df['project'].unique()\n",
    "len(projects)"
   ]
  },
  {
   "cell_type": "markdown",
   "id": "f0906607",
   "metadata": {},
   "source": [
    "### Size pareto front"
   ]
  },
  {
   "cell_type": "code",
   "execution_count": 3,
   "id": "c2904180",
   "metadata": {},
   "outputs": [
    {
     "name": "stdout",
     "output_type": "stream",
     "text": [
      "21.466295506067475\n"
     ]
    },
    {
     "data": {
      "image/png": "[encoded data removed]",
      "text/plain": [
       "<Figure size 432x288 with 1 Axes>"
      ]
     },
     "metadata": {},
     "output_type": "display_data"
    }
   ],
   "source": [
    "projects_with_seed = df[['project', 'seed']]\n",
    "projects_with_seed_size = projects_with_seed.groupby(['project', 'seed']).size()\n",
    "pareto_size = projects_with_seed_size.to_frame(name = 'size').reset_index()\n",
    "pareto_size_plot = sns.boxplot(data = pareto_size['size'])\n",
    "pareto_size_plot.get_figure().savefig(\"../pictures/evaluation/SizeParetoFront.pdf\", bbox_inches=\"tight\")\n",
    "print(pareto_size['size'].mean())"
   ]
  },
  {
   "cell_type": "markdown",
   "id": "f3e010a3",
   "metadata": {},
   "source": [
    "### Mean Projects over all seeds"
   ]
  },
  {
   "cell_type": "code",
   "execution_count": 4,
   "id": "e96c7f72",
   "metadata": {},
   "outputs": [],
   "source": [
    "mean_projects_over_all_seeds = df.groupby(['project']).mean()"
   ]
  },
  {
   "cell_type": "markdown",
   "id": "cd858375",
   "metadata": {},
   "source": [
    "### Number of projects with no refactorings applied"
   ]
  },
  {
   "cell_type": "code",
   "execution_count": 87,
   "id": "42582fea",
   "metadata": {},
   "outputs": [
    {
     "name": "stdout",
     "output_type": "stream",
     "text": [
      "seed: 0; number of non-refactored programs: 88\n",
      "seed: 1; number of non-refactored programs: 86\n",
      "seed: 2; number of non-refactored programs: 89\n",
      "seed: 3; number of non-refactored programs: 86\n",
      "seed: 4; number of non-refactored programs: 88\n",
      "seed: 5; number of non-refactored programs: 98\n",
      "seed: 6; number of non-refactored programs: 84\n",
      "seed: 7; number of non-refactored programs: 85\n",
      "seed: 8; number of non-refactored programs: 100\n",
      "seed: 9; number of non-refactored programs: 84\n",
      "seed: 10; number of non-refactored programs: 86\n",
      "seed: 11; number of non-refactored programs: 83\n",
      "seed: 12; number of non-refactored programs: 100\n",
      "seed: 13; number of non-refactored programs: 99\n",
      "seed: 14; number of non-refactored programs: 82\n",
      "seed: 15; number of non-refactored programs: 95\n",
      "seed: 16; number of non-refactored programs: 91\n",
      "seed: 17; number of non-refactored programs: 98\n",
      "seed: 18; number of non-refactored programs: 85\n",
      "seed: 19; number of non-refactored programs: 85\n",
      "seed: 20; number of non-refactored programs: 83\n",
      "seed: 21; number of non-refactored programs: 92\n",
      "seed: 22; number of non-refactored programs: 91\n",
      "seed: 23; number of non-refactored programs: 89\n",
      "seed: 24; number of non-refactored programs: 90\n",
      "seed: 25; number of non-refactored programs: 89\n",
      "seed: 26; number of non-refactored programs: 86\n",
      "seed: 27; number of non-refactored programs: 101\n",
      "seed: 28; number of non-refactored programs: 85\n",
      "seed: 29; number of non-refactored programs: 87\n",
      "average: 89.5\n",
      "Project 400004185_13-05-2021_12-39-25: 30\n",
      "Project 400006768_13-05-2021_14-14-40: 30\n",
      "Project 400016151_13-05-2021_20-32-55: 30\n",
      "Project 400032210_21-05-2021_03-10-03: 30\n",
      "Project 400050176_21-05-2021_15-52-47: 30\n",
      "Project 400050200_21-05-2021_15-53-22: 30\n",
      "Project 400053484_21-05-2021_18-22-10: 30\n",
      "Project 400055305_21-05-2021_20-08-48: 30\n",
      "Project 400060396_22-05-2021_00-08-11: 30\n",
      "Project 400063360_22-05-2021_02-15-40: 30\n",
      "Project 400085817_22-05-2021_16-35-16: 30\n",
      "Project 400091454_22-05-2021_19-47-17: 30\n",
      "Project 400097967_22-05-2021_23-49-09: 30\n",
      "Project 400098411_23-05-2021_00-08-47: 30\n",
      "Project 400106542_23-05-2021_04-57-46: 30\n",
      "Project 400110431_23-05-2021_07-15-48: 30\n",
      "Project 400117719_23-05-2021_11-37-12: 30\n",
      "Project 400129716_23-05-2021_18-32-50: 30\n",
      "Project 400138514_23-05-2021_23-32-01: 30\n",
      "Project 400148577_24-05-2021_05-04-47: 30\n",
      "Project 400151141_24-05-2021_06-29-10: 30\n",
      "Project 400158540_24-05-2021_10-25-28: 30\n",
      "Project 400162550_24-05-2021_12-30-56: 30\n",
      "Project 400172620_24-05-2021_17-58-16: 30\n",
      "Project 400175072_24-05-2021_19-17-56: 30\n",
      "Project 400180545_24-05-2021_22-20-33: 30\n",
      "Project 400187039_25-05-2021_01-56-55: 30\n",
      "Project 400207035_25-05-2021_12-45-38: 30\n",
      "Project 400211308_25-05-2021_15-08-31: 30\n",
      "Project 400218603_25-05-2021_19-17-54: 29\n",
      "Project 400226427_26-05-2021_02-09-49: 30\n",
      "Project 400231107_10-06-2021_11-10-51: 30\n",
      "Project 401007602_13-05-2021_19-21-22: 30\n",
      "Project 401015599_14-05-2021_01-41-13: 11\n",
      "Project 401031382_21-05-2021_04-40-12: 30\n",
      "Project 401035363_21-05-2021_07-33-10: 30\n",
      "Project 401035668_21-05-2021_07-45-09: 30\n",
      "Project 401039212_21-05-2021_10-18-53: 30\n",
      "Project 401041948_21-05-2021_12-12-40: 30\n",
      "Project 401042168_21-05-2021_12-20-30: 30\n",
      "Project 401048205_21-05-2021_17-05-43: 30\n",
      "Project 401048323_21-05-2021_17-11-53: 30\n",
      "Project 401053393_21-05-2021_21-57-38: 30\n",
      "Project 401074215_22-05-2021_12-52-49: 30\n",
      "Project 401081643_22-05-2021_18-44-08: 30\n",
      "Project 401086328_22-05-2021_22-39-43: 30\n",
      "Project 401104401_23-05-2021_11-43-40: 30\n",
      "Project 401108614_23-05-2021_15-03-49: 17\n",
      "Project 401109604_23-05-2021_15-50-20: 30\n",
      "Project 401123743_24-05-2021_02-58-06: 30\n",
      "Project 402004864_13-05-2021_17-12-45: 30\n",
      "Project 402007377_13-05-2021_18-37-38: 30\n",
      "Project 402008363_13-05-2021_19-19-13: 30\n",
      "Project 402012505_13-05-2021_21-52-31: 30\n",
      "Project 402014002_13-05-2021_22-47-05: 30\n",
      "Project 402019096_14-05-2021_02-35-26: 30\n",
      "Project 402020855_14-05-2021_03-57-36: 30\n",
      "Project 402023765_14-05-2021_05-51-46: 30\n",
      "Project 402024511_20-05-2021_20-54-16: 30\n",
      "Project 402031223_21-05-2021_01-09-25: 30\n",
      "Project 402032856_21-05-2021_02-15-15: 30\n",
      "Project 402033588_21-05-2021_02-42-58: 30\n",
      "Project 402035619_21-05-2021_03-58-57: 30\n",
      "Project 402048492_21-05-2021_15-20-47: 30\n",
      "Project 402049859_21-05-2021_17-04-37: 30\n",
      "Project 402065445_22-05-2021_14-20-59: 30\n",
      "Project 402070145_22-05-2021_20-44-53: 11\n",
      "Project 402072515_23-05-2021_16-51-57: 30\n",
      "Project 402077631_23-05-2021_06-24-40: 30\n",
      "Project 402080822_23-05-2021_10-02-10: 30\n",
      "Project 402096152_24-05-2021_08-24-37: 30\n",
      "Project 402099220_24-05-2021_12-41-03: 30\n",
      "Project 402103356_24-05-2021_18-47-21: 18\n",
      "Project 402106862_25-05-2021_00-38-25: 30\n",
      "Project 402111250_25-05-2021_04-55-40: 30\n",
      "Project 402111297_25-05-2021_04-57-45: 30\n",
      "Project 402113074_25-05-2021_07-14-46: 30\n",
      "Project 402115111_25-05-2021_09-45-20: 30\n",
      "Project 402122041_25-05-2021_18-12-17: 30\n",
      "Project 402122674_25-05-2021_19-03-46: 16\n",
      "Project 402130188_26-05-2021_08-51-59: 30\n",
      "Project 402134302_26-05-2021_13-33-56: 30\n",
      "Project 402160678_27-05-2021_23-43-54: 30\n",
      "Project 402167862_28-05-2021_10-20-00: 30\n",
      "Project 402177499_28-05-2021_20-25-16: 19\n",
      "Project 500018589_14-05-2021_02-37-42: 30\n",
      "Project 500019727_14-05-2021_03-30-13: 30\n",
      "Project 501011220_14-05-2021_00-10-31: 30\n",
      "Project 401101700_23-05-2021_09-35-35: 18\n",
      "Project 400012833_13-05-2021_18-14-01: 13\n",
      "Project 400020523_14-05-2021_00-46-35: 10\n",
      "Project 401117064_23-05-2021_21-30-40: 6\n",
      "Project 400058120_21-05-2021_22-25-42: 3\n",
      "Project 401053311_21-05-2021_21-55-01: 5\n",
      "Project 401125242_24-05-2021_03-59-48: 7\n",
      "Project 400006216_13-05-2021_13-52-37: 4\n",
      "Project 400121564_23-05-2021_13-47-32: 10\n",
      "Project 400170406_24-05-2021_16-47-55: 8\n",
      "Project 400225450_26-05-2021_01-27-09: 4\n",
      "Project 402127962_26-05-2021_05-56-12: 4\n",
      "Project 402151313_28-05-2021_01-01-31: 3\n",
      "Project 500010235_13-05-2021_21-11-36: 7\n",
      "Project 500016072_14-05-2021_00-44-17: 2\n",
      "Project 400042528_21-05-2021_10-32-22: 5\n",
      "Project 400167844_24-05-2021_15-26-31: 2\n",
      "Project 402104228_24-05-2021_20-08-29: 9\n",
      "Project 402172947_28-05-2021_15-04-38: 9\n",
      "Project 401115407_23-05-2021_20-04-42: 2\n",
      "Project 402030492_21-05-2021_00-36-50: 3\n",
      "\\newcommand{\\projectsNotRefactored}{28}\n",
      "\\newcommand{\\projectsRefactored}{972}\n"
     ]
    }
   ],
   "source": [
    "# Warning: This takes a while\n",
    "refactoring_names = [\"conjunction_to_ifs\", \"conjunction_to_ifelse\", \"disjunction_to_ifelse\", \"extract_loop_condition\", \"extract_event_handler\", \"forever_if_to_wait_until\",\n",
    "                    \"forever_wait_to_forever_if\", \"ifs_to_conjunction\", \"ififelse_to_conjunction\", \"ifelse_to_disjunction\", \"ifelse_to_ififnot\", \"ififnot_to_ifelse\",\n",
    "                    \"inline_loop_condition\", \"loop_unrolling\", \"merge_double_if\", \"merge_event_handler\", \"merge_loops\",\n",
    "                    \"merge_scripts\", \"merge_scripts_after_until\", \"sequence_to_loop\", \"split_if\", \"split_loop\", \"split_script\",\n",
    "                    \"split_slice\", \"swap_statements\", \"split_script_after_until\"]\n",
    "non_refactored_projects_sum = 0\n",
    "nfprojects = {}\n",
    "for seed in range(0, 30):\n",
    "    seed_df = df[df['seed'] == seed]\n",
    "    projects_with_seed = seed_df[['project', 'seed']]\n",
    "    projects_with_seed_size = projects_with_seed.groupby(['project', 'seed']).size()\n",
    "    pareto_size = projects_with_seed_size.to_frame(name = 'size').reset_index()\n",
    "    projects_with_one_solution = pareto_size[pareto_size['size'] == 1]\n",
    "    data_frames_with_one_solution = []\n",
    "    for index, row in projects_with_one_solution.iterrows():\n",
    "        data_frames_with_one_solution.append(seed_df[seed_df['project'] == row['project']])\n",
    "    number_non_refactored_projects = 0\n",
    "    nfprojects_seed = []\n",
    "    for data_frame in data_frames_with_one_solution:\n",
    "        values = data_frame[refactoring_names].apply(sum, axis=1).values\n",
    "        if values[0] == 0:            \n",
    "            number_non_refactored_projects += 1\n",
    "            nfprojects_seed.append(data_frame['project'].values[0])\n",
    "            name = data_frame['project'].values[0]\n",
    "            if name in nfprojects:\n",
    "                nfprojects[name] += 1\n",
    "            else:\n",
    "                nfprojects[name] = 1\n",
    "\n",
    "    non_refactored_projects_sum += number_non_refactored_projects\n",
    "    print(f\"seed: {seed}; number of non-refactored programs: {number_non_refactored_projects}\")\n",
    "print(f\"average: {non_refactored_projects_sum / 30}\")\n",
    "nf = 0\n",
    "for (project, value) in nfprojects.items():\n",
    "    # Check if key is even then add pair to new dictionary\n",
    "    print(f\"Project {project}: {value}\")\n",
    "    if value != 30:\n",
    "        nf +=1\n",
    "print(f\"\\\\newcommand{{\\\\projectsNotRefactored}}{{{nf}}}\")\n",
    "print(f\"\\\\newcommand{{\\\\projectsRefactored}}{{{len(projects) - nf}}}\")"
   ]
  },
  {
   "cell_type": "markdown",
   "id": "3402e641",
   "metadata": {},
   "source": [
    "### Projects with refactoring that dominates original solution"
   ]
  },
  {
   "cell_type": "code",
   "execution_count": 88,
   "id": "23270f73",
   "metadata": {},
   "outputs": [
    {
     "name": "stdout",
     "output_type": "stream",
     "text": [
      "\\newcommand{\\projectsWithDominatingSolution}{354}\n"
     ]
    }
   ],
   "source": [
    "dominated = df[df['dominated'] == 1]\n",
    "dominated_projects = dominated['project'].unique()\n",
    "print(f\"\\\\newcommand{{\\\\projectsWithDominatingSolution}}{{{len(dominated_projects)}}}\")"
   ]
  },
  {
   "cell_type": "markdown",
   "id": "763c31c6",
   "metadata": {},
   "source": [
    "### Are non-dominated projects smaller projects?"
   ]
  },
  {
   "cell_type": "code",
   "execution_count": 7,
   "id": "797d8d91",
   "metadata": {},
   "outputs": [
    {
     "data": {
      "image/png": "[encoded data removed]",
      "text/plain": [
       "<Figure size 360x360 with 1 Axes>"
      ]
     },
     "metadata": {},
     "output_type": "display_data"
    }
   ],
   "source": [
    "dominated_smaller_plot = sns.catplot(x=\"dominated\", y=\"blocks\", kind=\"box\", data=df)\n",
    "dominated_smaller_plot.savefig(\"../pictures/evaluation/NonDominatedSmaller.pdf\", bbox_inches=\"tight\")"
   ]
  },
  {
   "cell_type": "code",
   "execution_count": 8,
   "id": "ac13edb7",
   "metadata": {},
   "outputs": [
    {
     "name": "stdout",
     "output_type": "stream",
     "text": [
      "non-dominated average mean of blocks: 161.936034485778\n",
      "dominated average mean of blocks: 155.01391007780444\n"
     ]
    }
   ],
   "source": [
    "project_dominated = []\n",
    "project_non_dominated = []\n",
    "for project in df['project'].unique():\n",
    "  item = df[\n",
    "    (df['project'] == project)\n",
    "  ]\n",
    "\n",
    "  mean_dominated = item[item['dominated'] == 1]['blocks'].mean()\n",
    "  # TODO does this do what we want? \n",
    "  if math.isnan(mean_dominated):\n",
    "    continue\n",
    "  mean_non_dominated = item[item['dominated'] == 0]['blocks'].mean()\n",
    "  # TODO does this do what we want? \n",
    "  if math.isnan(mean_non_dominated):\n",
    "    continue\n",
    "  project_dominated.append(mean_dominated)\n",
    "  project_non_dominated.append(mean_non_dominated)\n",
    "  # print(f\"mean_dominated: {mean_dominated}\")\n",
    "  # print(f\"mean_non_dominated: {mean_non_dominated}\")\n",
    "avg_dominated_blocks = sum(project_dominated) / len(project_dominated)\n",
    "avg_non_dominated_blocks = sum(project_non_dominated) / len(project_non_dominated)\n",
    "print(f\"non-dominated average mean of blocks: {avg_non_dominated_blocks}\")\n",
    "print(f\"dominated average mean of blocks: {avg_dominated_blocks}\")"
   ]
  },
  {
   "cell_type": "code",
   "execution_count": 9,
   "id": "e82d30f0",
   "metadata": {},
   "outputs": [],
   "source": [
    "# mannwhitneyu_blocks_dominated_sum = 0\n",
    "# for seed in range(0, 30):\n",
    "#     nondominated_blocks = df[(df['seed'] == seed) & (df['dominated'] == 0)].groupby('project')['blocks'].min().to_frame(name = 'Blocks')\n",
    "#     dominated_blocks   = df[(df['seed'] == seed) & (df['dominated'] == 1)].groupby('project')['blocks'].min().to_frame(name = 'Blocks')\n",
    "#     nondominated_blocks['Program'] = 'Nondominated'\n",
    "#     dominated_blocks['Program'] = 'Dominated'\n",
    "#     result = mannwhitneyu(nondominated_blocks['Blocks'], dominated_blocks['Blocks'])\n",
    "#     mannwhitneyu_blocks_dominated_sum += result[1]\n",
    "#     print(f\"seed: {seed}; mannwhitneyu: {result[1]}\")\n",
    "# print(f\"average: {mannwhitneyu_blocks_dominated_sum / 30}\")"
   ]
  },
  {
   "cell_type": "markdown",
   "id": "70008235",
   "metadata": {},
   "source": [
    "### Distribution of complexity improvements"
   ]
  },
  {
   "cell_type": "code",
   "execution_count": 10,
   "id": "bfc84147",
   "metadata": {},
   "outputs": [
    {
     "data": {
      "text/html": [
       "<div>\n",
       "<style scoped>\n",
       "    .dataframe tbody tr th:only-of-type {\n",
       "        vertical-align: middle;\n",
       "    }\n",
       "\n",
       "    .dataframe tbody tr th {\n",
       "        vertical-align: top;\n",
       "    }\n",
       "\n",
       "    .dataframe thead th {\n",
       "        text-align: right;\n",
       "    }\n",
       "</style>\n",
       "<table border=\"1\" class=\"dataframe\">\n",
       "  <thead>\n",
       "    <tr style=\"text-align: right;\">\n",
       "      <th></th>\n",
       "      <th>Complexity</th>\n",
       "      <th>Program</th>\n",
       "    </tr>\n",
       "  </thead>\n",
       "  <tbody>\n",
       "    <tr>\n",
       "      <th>400160883_24-05-2021_11-41-45</th>\n",
       "      <td>4.000000</td>\n",
       "      <td>Original</td>\n",
       "    </tr>\n",
       "    <tr>\n",
       "      <th>401035363_21-05-2021_07-33-10</th>\n",
       "      <td>3.000000</td>\n",
       "      <td>Original</td>\n",
       "    </tr>\n",
       "    <tr>\n",
       "      <th>400209164_25-05-2021_13-52-42</th>\n",
       "      <td>4.173864</td>\n",
       "      <td>Original</td>\n",
       "    </tr>\n",
       "    <tr>\n",
       "      <th>400063360_22-05-2021_02-15-40</th>\n",
       "      <td>2.400000</td>\n",
       "      <td>Original</td>\n",
       "    </tr>\n",
       "    <tr>\n",
       "      <th>400217464_25-05-2021_18-39-06</th>\n",
       "      <td>5.800000</td>\n",
       "      <td>Original</td>\n",
       "    </tr>\n",
       "    <tr>\n",
       "      <th>...</th>\n",
       "      <td>...</td>\n",
       "      <td>...</td>\n",
       "    </tr>\n",
       "    <tr>\n",
       "      <th>401054474_21-05-2021_22-50-00</th>\n",
       "      <td>1.183101</td>\n",
       "      <td>Refactored</td>\n",
       "    </tr>\n",
       "    <tr>\n",
       "      <th>401029944_21-05-2021_03-35-44</th>\n",
       "      <td>3.800000</td>\n",
       "      <td>Refactored</td>\n",
       "    </tr>\n",
       "    <tr>\n",
       "      <th>402002729_13-05-2021_15-56-02</th>\n",
       "      <td>3.902778</td>\n",
       "      <td>Refactored</td>\n",
       "    </tr>\n",
       "    <tr>\n",
       "      <th>400068771_22-05-2021_06-09-05</th>\n",
       "      <td>0.055556</td>\n",
       "      <td>Refactored</td>\n",
       "    </tr>\n",
       "    <tr>\n",
       "      <th>400015349_13-05-2021_19-57-31</th>\n",
       "      <td>1.451183</td>\n",
       "      <td>Refactored</td>\n",
       "    </tr>\n",
       "  </tbody>\n",
       "</table>\n",
       "<p>2000 rows × 2 columns</p>\n",
       "</div>"
      ],
      "text/plain": [
       "                               Complexity     Program\n",
       "400160883_24-05-2021_11-41-45    4.000000    Original\n",
       "401035363_21-05-2021_07-33-10    3.000000    Original\n",
       "400209164_25-05-2021_13-52-42    4.173864    Original\n",
       "400063360_22-05-2021_02-15-40    2.400000    Original\n",
       "400217464_25-05-2021_18-39-06    5.800000    Original\n",
       "...                                   ...         ...\n",
       "401054474_21-05-2021_22-50-00    1.183101  Refactored\n",
       "401029944_21-05-2021_03-35-44    3.800000  Refactored\n",
       "402002729_13-05-2021_15-56-02    3.902778  Refactored\n",
       "400068771_22-05-2021_06-09-05    0.055556  Refactored\n",
       "400015349_13-05-2021_19-57-31    1.451183  Refactored\n",
       "\n",
       "[2000 rows x 2 columns]"
      ]
     },
     "execution_count": 10,
     "metadata": {},
     "output_type": "execute_result"
    }
   ],
   "source": [
    "complexities = []\n",
    "original_complexities = []\n",
    "for project in df['project'].unique():\n",
    "  project_avg = []\n",
    "  project_avg_original = []\n",
    "  # TODO run with all 30 seeds (WARNING: takes around 20-30 minutes)\n",
    "  for seed in range(0, 30):\n",
    "    item = df[\n",
    "      (df['project'] == project)\n",
    "      & (df['seed'] == seed)\n",
    "    ]\n",
    "    minimum = item['average_complexity_fitness'].min()\n",
    "    minimum_original = item['average_complexity_fitness_without_refactoring'].min()\n",
    "    project_avg.append(minimum)\n",
    "    project_avg_original.append(minimum_original)\n",
    "  avg = sum(project_avg) / len(project_avg)\n",
    "  avg_original = sum(project_avg_original) / len(project_avg_original)\n",
    "  complexities.append(avg)\n",
    "  original_complexities.append(avg_original)\n",
    "refactored_complexities = {\n",
    "    'Complexity': complexities\n",
    "}\n",
    "refactored_complexities_original = {\n",
    "    'Complexity': original_complexities\n",
    "}\n",
    "refactored_complexities_df = pd.DataFrame(refactored_complexities, columns = ['Complexity'], index=projects)\n",
    "refactored_complexities_df['Program'] = 'Refactored'\n",
    "refactored_complexities_original_df = pd.DataFrame(refactored_complexities_original, columns = ['Complexity'], index=projects)\n",
    "refactored_complexities_original_df['Program'] = 'Original'\n",
    "\n",
    "both = pd.concat((refactored_complexities_original_df, refactored_complexities_df))\n",
    "both"
   ]
  },
  {
   "cell_type": "code",
   "execution_count": 11,
   "id": "64d1c02f",
   "metadata": {},
   "outputs": [
    {
     "data": {
      "image/png": "[encoded data removed]",
      "text/plain": [
       "<Figure size 288x504 with 1 Axes>"
      ]
     },
     "metadata": {},
     "output_type": "display_data"
    }
   ],
   "source": [
    "sns.set(rc={'figure.figsize':(4,7)})\n",
    "sns.set_theme(style=\"white\", font_scale=2.2)\n",
    "\n",
    "complexity_plot = sns.boxplot(x = 'Program', y = 'Complexity', data=both)\n",
    "complexity_plot.set(xlabel=None)\n",
    "complexity_plot.get_figure().savefig(\"../pictures/evaluation/Complexity.pdf\", bbox_inches=\"tight\")"
   ]
  },
  {
   "cell_type": "code",
   "execution_count": 12,
   "id": "68a235bb",
   "metadata": {},
   "outputs": [
    {
     "name": "stdout",
     "output_type": "stream",
     "text": [
      "\\newcommand{\\complexityAfterRefactoringP}{< 0.001}\n"
     ]
    }
   ],
   "source": [
    "wc = wilcoxon(refactored_complexities_df['Complexity'], refactored_complexities_original_df['Complexity'])\n",
    "if wc[1] < 0.001:\n",
    "    print(f\"\\\\newcommand{{\\\\complexityAfterRefactoringP}}{{< 0.001}}\")\n",
    "else:\n",
    "    print(f\"\\\\newcommand{{\\\\complexityAfterRefactoringP}}{{{wc[1]}}}\")\n"
   ]
  },
  {
   "cell_type": "code",
   "execution_count": 91,
   "id": "f968a46b",
   "metadata": {},
   "outputs": [
    {
     "name": "stdout",
     "output_type": "stream",
     "text": [
      "\\newcommand{\\meanComplexityBeforeRefactoring}{3.3636309183391457}\n",
      "\\newcommand{\\meanComplexityAfterRefactoring}{2.08291137174689}\n"
     ]
    }
   ],
   "source": [
    "print(f\"\\\\newcommand{{\\\\meanComplexityBeforeRefactoring}}{{{refactored_complexities_original_df.mean()[0]}}}\")\n",
    "print(f\"\\\\newcommand{{\\\\meanComplexityAfterRefactoring}}{{{refactored_complexities_df.mean()[0]}}}\")"
   ]
  },
  {
   "cell_type": "code",
   "execution_count": 13,
   "id": "f484c4ae",
   "metadata": {
    "scrolled": true
   },
   "outputs": [],
   "source": [
    "# mannwhitneyu_complexity_sum = 0\n",
    "# for seed in range(0, 30):\n",
    "#     refactored_complexities = df[df['seed'] == seed].groupby('project')['average_complexity_fitness'].min().to_frame(name = 'Complexity')\n",
    "#     original_complexities   = df[df['seed'] == seed].groupby('project')['average_complexity_fitness_without_refactoring'].min().to_frame(name = 'Complexity')\n",
    "#     refactored_complexities['Program'] = 'Refactored'\n",
    "#     original_complexities['Program'] = 'Original'\n",
    "#     result = mannwhitneyu(original_complexities['Complexity'], refactored_complexities['Complexity'])\n",
    "#     mannwhitneyu_complexity_sum += result[1]\n",
    "#     print(f\"seed: {seed}; mannwhitneyu: {result[1]}\")\n",
    "# print(f\"average: {mannwhitneyu_complexity_sum / 30}\")"
   ]
  },
  {
   "cell_type": "code",
   "execution_count": 14,
   "id": "b8c29c55",
   "metadata": {},
   "outputs": [
    {
     "data": {
      "image/png": "[encoded data removed]",
      "text/plain": [
       "<Figure size 288x504 with 1 Axes>"
      ]
     },
     "metadata": {},
     "output_type": "display_data"
    }
   ],
   "source": [
    "# diff = df.groupby('project')['average_complexity_fitness'].min().subtract(df.groupby('project')['average_complexity_fitness_without_refactoring'].min())\n",
    "# complexity_diff_plot = sns.boxplot(data = diff)\n",
    "# complexity_diff_plot.get_figure().savefig(\"../pictures/evaluation/ComplexityDiff.pdf\", bbox_inches=\"tight\")\n",
    "\n",
    "diffs = []\n",
    "for project in df['project'].unique():\n",
    "  project_avg = []\n",
    "  project_avg_original = []\n",
    "  # TODO run with all 30 seeds (WARNING: takes around 20-30 minutes)\n",
    "  for seed in range(0, 30):\n",
    "    item = df[\n",
    "      (df['project'] == project)\n",
    "      & (df['seed'] == seed)\n",
    "    ]\n",
    "    minimum = item['average_complexity_fitness'].min()\n",
    "    minimum_original = item['average_complexity_fitness_without_refactoring'].min()\n",
    "    project_avg.append(minimum)\n",
    "    project_avg_original.append(minimum_original)\n",
    "  avg = sum(project_avg) / len(project_avg)\n",
    "  avg_original = sum(project_avg_original) / len(project_avg_original)\n",
    "  subtraction = avg - avg_original\n",
    "  diffs.append(subtraction)\n",
    "refactored_diffs = {\n",
    "    'Diffs': diffs\n",
    "}\n",
    "diff = pd.DataFrame(refactored_diffs, index=projects)\n",
    "complexity_diff_plot = sns.boxplot(data = diff)\n",
    "complexity_diff_plot.get_figure().savefig(\"../pictures/evaluation/ComplexityDiff.pdf\", bbox_inches=\"tight\")"
   ]
  },
  {
   "cell_type": "markdown",
   "id": "6728236b",
   "metadata": {},
   "source": [
    "### Distribution of entropy improvements"
   ]
  },
  {
   "cell_type": "code",
   "execution_count": 15,
   "id": "8da31fb8",
   "metadata": {},
   "outputs": [
    {
     "data": {
      "text/html": [
       "<div>\n",
       "<style scoped>\n",
       "    .dataframe tbody tr th:only-of-type {\n",
       "        vertical-align: middle;\n",
       "    }\n",
       "\n",
       "    .dataframe tbody tr th {\n",
       "        vertical-align: top;\n",
       "    }\n",
       "\n",
       "    .dataframe thead th {\n",
       "        text-align: right;\n",
       "    }\n",
       "</style>\n",
       "<table border=\"1\" class=\"dataframe\">\n",
       "  <thead>\n",
       "    <tr style=\"text-align: right;\">\n",
       "      <th></th>\n",
       "      <th>Entropy</th>\n",
       "      <th>Program</th>\n",
       "    </tr>\n",
       "  </thead>\n",
       "  <tbody>\n",
       "    <tr>\n",
       "      <th>400160883_24-05-2021_11-41-45</th>\n",
       "      <td>1.317668</td>\n",
       "      <td>Original</td>\n",
       "    </tr>\n",
       "    <tr>\n",
       "      <th>401035363_21-05-2021_07-33-10</th>\n",
       "      <td>1.360964</td>\n",
       "      <td>Original</td>\n",
       "    </tr>\n",
       "    <tr>\n",
       "      <th>400209164_25-05-2021_13-52-42</th>\n",
       "      <td>2.064840</td>\n",
       "      <td>Original</td>\n",
       "    </tr>\n",
       "    <tr>\n",
       "      <th>400063360_22-05-2021_02-15-40</th>\n",
       "      <td>0.721928</td>\n",
       "      <td>Original</td>\n",
       "    </tr>\n",
       "    <tr>\n",
       "      <th>400217464_25-05-2021_18-39-06</th>\n",
       "      <td>1.535658</td>\n",
       "      <td>Original</td>\n",
       "    </tr>\n",
       "    <tr>\n",
       "      <th>...</th>\n",
       "      <td>...</td>\n",
       "      <td>...</td>\n",
       "    </tr>\n",
       "    <tr>\n",
       "      <th>401054474_21-05-2021_22-50-00</th>\n",
       "      <td>1.013220</td>\n",
       "      <td>Refactored</td>\n",
       "    </tr>\n",
       "    <tr>\n",
       "      <th>401029944_21-05-2021_03-35-44</th>\n",
       "      <td>1.019248</td>\n",
       "      <td>Refactored</td>\n",
       "    </tr>\n",
       "    <tr>\n",
       "      <th>402002729_13-05-2021_15-56-02</th>\n",
       "      <td>1.246598</td>\n",
       "      <td>Refactored</td>\n",
       "    </tr>\n",
       "    <tr>\n",
       "      <th>400068771_22-05-2021_06-09-05</th>\n",
       "      <td>0.995194</td>\n",
       "      <td>Refactored</td>\n",
       "    </tr>\n",
       "    <tr>\n",
       "      <th>400015349_13-05-2021_19-57-31</th>\n",
       "      <td>1.204481</td>\n",
       "      <td>Refactored</td>\n",
       "    </tr>\n",
       "  </tbody>\n",
       "</table>\n",
       "<p>2000 rows × 2 columns</p>\n",
       "</div>"
      ],
      "text/plain": [
       "                                Entropy     Program\n",
       "400160883_24-05-2021_11-41-45  1.317668    Original\n",
       "401035363_21-05-2021_07-33-10  1.360964    Original\n",
       "400209164_25-05-2021_13-52-42  2.064840    Original\n",
       "400063360_22-05-2021_02-15-40  0.721928    Original\n",
       "400217464_25-05-2021_18-39-06  1.535658    Original\n",
       "...                                 ...         ...\n",
       "401054474_21-05-2021_22-50-00  1.013220  Refactored\n",
       "401029944_21-05-2021_03-35-44  1.019248  Refactored\n",
       "402002729_13-05-2021_15-56-02  1.246598  Refactored\n",
       "400068771_22-05-2021_06-09-05  0.995194  Refactored\n",
       "400015349_13-05-2021_19-57-31  1.204481  Refactored\n",
       "\n",
       "[2000 rows x 2 columns]"
      ]
     },
     "execution_count": 15,
     "metadata": {},
     "output_type": "execute_result"
    }
   ],
   "source": [
    "entropies = []\n",
    "original_entropies = []\n",
    "for project in df['project'].unique():\n",
    "  project_avg = []\n",
    "  project_avg_original = []\n",
    "  # TODO run with all 30 seeds (WARNING: takes around 20-30 minutes)\n",
    "  for seed in range(0, 30):\n",
    "    item = df[\n",
    "      (df['project'] == project)\n",
    "      & (df['seed'] == seed)\n",
    "    ]\n",
    "    minimum = item['average_entropy_fitness'].min()\n",
    "    minimum_original = item['average_entropy_fitness_without_refactoring'].min()\n",
    "    project_avg.append(minimum)\n",
    "    project_avg_original.append(minimum_original)\n",
    "  avg = sum(project_avg) / len(project_avg)\n",
    "  avg_original = sum(project_avg_original) / len(project_avg_original)\n",
    "  entropies.append(avg)\n",
    "  original_entropies.append(avg_original)\n",
    "refactored_entropies = {\n",
    "    'Entropy': entropies\n",
    "}\n",
    "refactored_entropies_original = {\n",
    "    'Entropy': original_entropies\n",
    "}\n",
    "refactored_entropies_df = pd.DataFrame(refactored_entropies, columns = ['Entropy'], index=projects)\n",
    "refactored_entropies_df['Program'] = 'Refactored'\n",
    "refactored_entropies_original_df = pd.DataFrame(refactored_entropies_original, columns = ['Entropy'], index=projects)\n",
    "refactored_entropies_original_df['Program'] = 'Original'\n",
    "both = pd.concat((refactored_entropies_original_df, refactored_entropies_df))\n",
    "both"
   ]
  },
  {
   "cell_type": "code",
   "execution_count": 16,
   "id": "97d42988",
   "metadata": {},
   "outputs": [
    {
     "data": {
      "image/png": "[encoded data removed]",
      "text/plain": [
       "<Figure size 288x504 with 1 Axes>"
      ]
     },
     "metadata": {},
     "output_type": "display_data"
    }
   ],
   "source": [
    "sns.set(rc={'figure.figsize':(4,7)})\n",
    "sns.set_theme(style=\"white\", font_scale=2.2)\n",
    "\n",
    "entropy_plot = sns.boxplot(x = 'Program', y = 'Entropy', data=both)\n",
    "entropy_plot.set(xlabel=None)\n",
    "entropy_plot.get_figure().savefig(\"../pictures/evaluation/Entropy.pdf\", bbox_inches=\"tight\")"
   ]
  },
  {
   "cell_type": "code",
   "execution_count": 17,
   "id": "8934cc8e",
   "metadata": {},
   "outputs": [
    {
     "name": "stdout",
     "output_type": "stream",
     "text": [
      "\\newcommand{\\entropyAfterRefactoringP}{< 0.001}\n"
     ]
    }
   ],
   "source": [
    "wc = wilcoxon(refactored_entropies_df['Entropy'], refactored_entropies_original_df['Entropy'])\n",
    "if wc[1] < 0.001:\n",
    "    print(f\"\\\\newcommand{{\\\\entropyAfterRefactoringP}}{{< 0.001}}\")\n",
    "else:\n",
    "    print(f\"\\\\newcommand{{\\\\entropyAfterRefactoringP}}{{{wc[1]}}}\")\n"
   ]
  },
  {
   "cell_type": "code",
   "execution_count": 90,
   "id": "3f03746b",
   "metadata": {},
   "outputs": [
    {
     "name": "stdout",
     "output_type": "stream",
     "text": [
      "\\newcommand{\\meanEntropyBeforeRefactoring}{1.4447769417171383}\n",
      "\\newcommand{\\meanEntropyAfterRefactoring}{1.1932980127859478}\n"
     ]
    }
   ],
   "source": [
    "print(f\"\\\\newcommand{{\\\\meanEntropyBeforeRefactoring}}{{{refactored_entropies_original_df.mean()[0]}}}\")\n",
    "print(f\"\\\\newcommand{{\\\\meanEntropyAfterRefactoring}}{{{refactored_entropies_df.mean()[0]}}}\")"
   ]
  },
  {
   "cell_type": "code",
   "execution_count": 18,
   "id": "a168321e",
   "metadata": {},
   "outputs": [],
   "source": [
    "# mannwhitneyu_entropy_sum = 0\n",
    "# for seed in range(0, 30):\n",
    "#     refactored_entropies = df[df['seed'] == seed].groupby('project')['average_entropy_fitness'].min().to_frame(name = 'Entropy')\n",
    "#     original_entropies   = df[df['seed'] == seed].groupby('project')['average_entropy_fitness_without_refactoring'].min().to_frame(name = 'Entropy')\n",
    "#     refactored_entropies['Program'] = 'Refactored'\n",
    "#     original_entropies['Program'] = 'Original'\n",
    "#     result = mannwhitneyu(original_entropies['Entropy'], refactored_entropies['Entropy'])\n",
    "#     mannwhitneyu_entropy_sum += result[1]\n",
    "#     print(f\"seed: {seed}; mannwhitneyu: {result[1]}\")\n",
    "# print(f\"average: {mannwhitneyu_entropy_sum / 30}\")"
   ]
  },
  {
   "cell_type": "code",
   "execution_count": 19,
   "id": "6e5d82ab",
   "metadata": {},
   "outputs": [
    {
     "data": {
      "image/png": "[encoded data removed]",
      "text/plain": [
       "<Figure size 288x504 with 1 Axes>"
      ]
     },
     "metadata": {},
     "output_type": "display_data"
    }
   ],
   "source": [
    "# diff = df.groupby('project')['average_entropy_fitness'].min().subtract(df.groupby('project')['average_entropy_fitness_without_refactoring'].min())\n",
    "# entropy_diff_plot = sns.boxplot(data = diff)\n",
    "# entropy_diff_plot.get_figure().savefig(\"../pictures/evaluation/EntropyDiff.pdf\", bbox_inches=\"tight\")\n",
    "\n",
    "diffs = []\n",
    "for project in df['project'].unique():\n",
    "  project_avg = []\n",
    "  project_avg_original = []\n",
    "  # TODO run with all 30 seeds (WARNING: takes around 20-30 minutes)\n",
    "  for seed in range(0, 30):\n",
    "    item = df[\n",
    "      (df['project'] == project)\n",
    "      & (df['seed'] == seed)\n",
    "    ]\n",
    "    minimum = item['average_entropy_fitness'].min()\n",
    "    minimum_original = item['average_entropy_fitness_without_refactoring'].min()\n",
    "    project_avg.append(minimum)\n",
    "    project_avg_original.append(minimum_original)\n",
    "  avg = sum(project_avg) / len(project_avg)\n",
    "  avg_original = sum(project_avg_original) / len(project_avg_original)\n",
    "  subtraction = avg - avg_original\n",
    "  diffs.append(subtraction)\n",
    "refactored_diffs = {\n",
    "    'Diffs': diffs\n",
    "}\n",
    "diff = pd.DataFrame(refactored_diffs, index=projects)\n",
    "entropy_diff_plot = sns.boxplot(data = diff)\n",
    "entropy_diff_plot.get_figure().savefig(\"../pictures/evaluation/EntropyDiff.pdf\", bbox_inches=\"tight\")"
   ]
  },
  {
   "cell_type": "markdown",
   "id": "3ad6cbc8",
   "metadata": {},
   "source": [
    "### Distribution of number of blocks improvements"
   ]
  },
  {
   "cell_type": "code",
   "execution_count": 20,
   "id": "2f85b66d",
   "metadata": {},
   "outputs": [
    {
     "data": {
      "text/html": [
       "<div>\n",
       "<style scoped>\n",
       "    .dataframe tbody tr th:only-of-type {\n",
       "        vertical-align: middle;\n",
       "    }\n",
       "\n",
       "    .dataframe tbody tr th {\n",
       "        vertical-align: top;\n",
       "    }\n",
       "\n",
       "    .dataframe thead th {\n",
       "        text-align: right;\n",
       "    }\n",
       "</style>\n",
       "<table border=\"1\" class=\"dataframe\">\n",
       "  <thead>\n",
       "    <tr style=\"text-align: right;\">\n",
       "      <th></th>\n",
       "      <th>Blocks</th>\n",
       "      <th>Program</th>\n",
       "    </tr>\n",
       "  </thead>\n",
       "  <tbody>\n",
       "    <tr>\n",
       "      <th>400160883_24-05-2021_11-41-45</th>\n",
       "      <td>10.0</td>\n",
       "      <td>Original</td>\n",
       "    </tr>\n",
       "    <tr>\n",
       "      <th>401035363_21-05-2021_07-33-10</th>\n",
       "      <td>10.0</td>\n",
       "      <td>Original</td>\n",
       "    </tr>\n",
       "    <tr>\n",
       "      <th>400209164_25-05-2021_13-52-42</th>\n",
       "      <td>113.0</td>\n",
       "      <td>Original</td>\n",
       "    </tr>\n",
       "    <tr>\n",
       "      <th>400063360_22-05-2021_02-15-40</th>\n",
       "      <td>10.0</td>\n",
       "      <td>Original</td>\n",
       "    </tr>\n",
       "    <tr>\n",
       "      <th>400217464_25-05-2021_18-39-06</th>\n",
       "      <td>25.0</td>\n",
       "      <td>Original</td>\n",
       "    </tr>\n",
       "    <tr>\n",
       "      <th>...</th>\n",
       "      <td>...</td>\n",
       "      <td>...</td>\n",
       "    </tr>\n",
       "    <tr>\n",
       "      <th>401054474_21-05-2021_22-50-00</th>\n",
       "      <td>136.0</td>\n",
       "      <td>Refactored</td>\n",
       "    </tr>\n",
       "    <tr>\n",
       "      <th>401029944_21-05-2021_03-35-44</th>\n",
       "      <td>17.0</td>\n",
       "      <td>Refactored</td>\n",
       "    </tr>\n",
       "    <tr>\n",
       "      <th>402002729_13-05-2021_15-56-02</th>\n",
       "      <td>50.0</td>\n",
       "      <td>Refactored</td>\n",
       "    </tr>\n",
       "    <tr>\n",
       "      <th>400068771_22-05-2021_06-09-05</th>\n",
       "      <td>35.0</td>\n",
       "      <td>Refactored</td>\n",
       "    </tr>\n",
       "    <tr>\n",
       "      <th>400015349_13-05-2021_19-57-31</th>\n",
       "      <td>71.1</td>\n",
       "      <td>Refactored</td>\n",
       "    </tr>\n",
       "  </tbody>\n",
       "</table>\n",
       "<p>2000 rows × 2 columns</p>\n",
       "</div>"
      ],
      "text/plain": [
       "                               Blocks     Program\n",
       "400160883_24-05-2021_11-41-45    10.0    Original\n",
       "401035363_21-05-2021_07-33-10    10.0    Original\n",
       "400209164_25-05-2021_13-52-42   113.0    Original\n",
       "400063360_22-05-2021_02-15-40    10.0    Original\n",
       "400217464_25-05-2021_18-39-06    25.0    Original\n",
       "...                               ...         ...\n",
       "401054474_21-05-2021_22-50-00   136.0  Refactored\n",
       "401029944_21-05-2021_03-35-44    17.0  Refactored\n",
       "402002729_13-05-2021_15-56-02    50.0  Refactored\n",
       "400068771_22-05-2021_06-09-05    35.0  Refactored\n",
       "400015349_13-05-2021_19-57-31    71.1  Refactored\n",
       "\n",
       "[2000 rows x 2 columns]"
      ]
     },
     "execution_count": 20,
     "metadata": {},
     "output_type": "execute_result"
    }
   ],
   "source": [
    "blocks = []\n",
    "original_blocks = []\n",
    "for project in df['project'].unique():\n",
    "  project_avg = []\n",
    "  project_avg_original = []\n",
    "  # TODO run with all 30 seeds (WARNING: takes around 20-30 minutes)\n",
    "  for seed in range(0, 30):\n",
    "    item = df[\n",
    "      (df['project'] == project)\n",
    "      & (df['seed'] == seed)\n",
    "    ]\n",
    "    minimum = item['blocks'].min()\n",
    "    minimum_original = item['blocks_without_refactoring'].min()\n",
    "    project_avg.append(minimum)\n",
    "    project_avg_original.append(minimum_original)\n",
    "  avg = sum(project_avg) / len(project_avg)\n",
    "  avg_original = sum(project_avg_original) / len(project_avg_original)\n",
    "  blocks.append(avg)\n",
    "  original_blocks.append(avg_original)\n",
    "refactored_blocks = {\n",
    "    'Blocks': blocks\n",
    "}\n",
    "refactored_blocks_original = {\n",
    "    'Blocks': original_blocks\n",
    "}\n",
    "refactored_blocks_df = pd.DataFrame(refactored_blocks, columns = ['Blocks'], index=projects)\n",
    "refactored_blocks_df['Program'] = 'Refactored'\n",
    "refactored_blocks_original_df = pd.DataFrame(refactored_blocks_original, columns = ['Blocks'], index=projects)\n",
    "refactored_blocks_original_df['Program'] = 'Original'\n",
    "\n",
    "both = pd.concat((refactored_blocks_original_df, refactored_blocks_df))\n",
    "both"
   ]
  },
  {
   "cell_type": "code",
   "execution_count": 21,
   "id": "486b3419",
   "metadata": {},
   "outputs": [
    {
     "data": {
      "image/png": "[encoded data removed]",
      "text/plain": [
       "<Figure size 360x504 with 1 Axes>"
      ]
     },
     "metadata": {},
     "output_type": "display_data"
    }
   ],
   "source": [
    "f, ax = plt.subplots(figsize=(5, 7))\n",
    "ax.set_yscale(\"log\")\n",
    "\n",
    "#sns.set(rc={'figure.figsize':(5,7)})\n",
    "sns.set_theme(style=\"white\", font_scale=2.2)\n",
    "\n",
    "block_plot = sns.boxplot(x = 'Program', y = 'Blocks', data=both, showfliers = True)\n",
    "block_plot.set(xlabel=None)\n",
    "block_figure= block_plot.get_figure()\n",
    "block_figure.tight_layout()\n",
    "block_figure.savefig(\"../pictures/evaluation/Blocks.pdf\", bbox_inches=\"tight\")"
   ]
  },
  {
   "cell_type": "code",
   "execution_count": 22,
   "id": "e4a91837",
   "metadata": {},
   "outputs": [],
   "source": [
    "# mannwhitneyu_blocks_sum = 0\n",
    "# for seed in range(0, 30):\n",
    "#     refactored_blocks = df[df['seed'] == seed].groupby('project')['blocks'].min().to_frame(name = 'Blocks')\n",
    "#     original_blocks   = df[df['seed'] == seed].groupby('project')['blocks_without_refactoring'].min().to_frame(name = 'Blocks')\n",
    "#     refactored_blocks['Program'] = 'Refactored'\n",
    "#     original_blocks['Program'] = 'Original'\n",
    "#     result = mannwhitneyu(original_blocks['Blocks'], refactored_blocks['Blocks'])\n",
    "#     mannwhitneyu_blocks_sum += result[1]\n",
    "#     print(f\"seed: {seed}; mannwhitneyu: {result[1]}\")\n",
    "# print(f\"average: {mannwhitneyu_blocks_sum / 30}\")"
   ]
  },
  {
   "cell_type": "code",
   "execution_count": 23,
   "id": "f11bfe54",
   "metadata": {},
   "outputs": [
    {
     "data": {
      "image/png": "[encoded data removed]",
      "text/plain": [
       "<Figure size 288x504 with 1 Axes>"
      ]
     },
     "metadata": {},
     "output_type": "display_data"
    }
   ],
   "source": [
    "# diff = df.groupby('project')['blocks'].min().subtract(df.groupby('project')['blocks_without_refactoring'].min())\n",
    "# block_diff_plot = sns.boxplot(data = diff)\n",
    "# block_diff_plot.get_figure().savefig(\"../pictures/evaluation/BlocksDiff.pdf\", bbox_inches=\"tight\")\n",
    "\n",
    "diffs = []\n",
    "for project in df['project'].unique():\n",
    "  project_avg = []\n",
    "  project_avg_original = []\n",
    "  # TODO run with all 30 seeds (WARNING: takes around 20-30 minutes)\n",
    "  for seed in range(0, 30):\n",
    "    item = df[\n",
    "      (df['project'] == project)\n",
    "      & (df['seed'] == seed)\n",
    "    ]\n",
    "    minimum = item['blocks'].min()\n",
    "    minimum_original = item['blocks_without_refactoring'].min()\n",
    "    project_avg.append(minimum)\n",
    "    project_avg_original.append(minimum_original)\n",
    "  avg = sum(project_avg) / len(project_avg)\n",
    "  avg_original = sum(project_avg_original) / len(project_avg_original)\n",
    "  subtraction = avg - avg_original\n",
    "  diffs.append(subtraction)\n",
    "refactored_diffs = {\n",
    "    'Diffs': diffs\n",
    "}\n",
    "diff = pd.DataFrame(refactored_diffs, index=projects)\n",
    "block_diff_plot = sns.boxplot(data = diff)\n",
    "block_diff_plot.get_figure().savefig(\"../pictures/evaluation/BlocksDiff.pdf\", bbox_inches=\"tight\")"
   ]
  },
  {
   "cell_type": "code",
   "execution_count": 24,
   "id": "a8e65763",
   "metadata": {},
   "outputs": [],
   "source": [
    "blocks_refactored = df.groupby('project')['blocks'].mean()\n",
    "blocks_original   = df.groupby('project')['blocks_without_refactoring'].mean()"
   ]
  },
  {
   "cell_type": "code",
   "execution_count": 25,
   "id": "64598d6c",
   "metadata": {},
   "outputs": [
    {
     "name": "stdout",
     "output_type": "stream",
     "text": [
      "\\newcommand{\\meanBlocksBeforeRefactoring}{86.27427427427428}\n",
      "\\newcommand{\\meanBlocksAfterRefactoring}{84.53226559893226}\n"
     ]
    }
   ],
   "source": [
    "print(f\"\\\\newcommand{{\\\\meanBlocksBeforeRefactoring}}{{{refactored_blocks_original_df.mean()[0]}}}\")\n",
    "print(f\"\\\\newcommand{{\\\\meanBlocksAfterRefactoring}}{{{refactored_blocks_df.mean()[0]}}}\")"
   ]
  },
  {
   "cell_type": "code",
   "execution_count": 26,
   "id": "003ffe7e",
   "metadata": {},
   "outputs": [
    {
     "name": "stdout",
     "output_type": "stream",
     "text": [
      "\\newcommand{\\blocksAfterRefactoringP}{< 0.001}\n"
     ]
    }
   ],
   "source": [
    "wc = wilcoxon(refactored_blocks_df['Blocks'], refactored_blocks_original_df['Blocks'])\n",
    "if wc[1] < 0.001:\n",
    "    print(f\"\\\\newcommand{{\\\\blocksAfterRefactoringP}}{{< 0.001}}\")\n",
    "else:\n",
    "    print(f\"\\\\newcommand{{\\\\blocksAfterRefactoringP}}{{{wc[1]}}}\")\n"
   ]
  },
  {
   "cell_type": "code",
   "execution_count": 27,
   "id": "f71a98cb",
   "metadata": {},
   "outputs": [
    {
     "data": {
      "text/plain": [
       "0"
      ]
     },
     "execution_count": 27,
     "metadata": {},
     "output_type": "execute_result"
    }
   ],
   "source": [
    "dfp = df[df[\"blocks_without_refactoring\"] < 10]\n",
    "len(dfp[\"project\"].unique())"
   ]
  },
  {
   "cell_type": "code",
   "execution_count": 28,
   "id": "2f6f3e61",
   "metadata": {},
   "outputs": [
    {
     "data": {
      "text/plain": [
       "<AxesSubplot:xlabel='blocks_without_refactoring', ylabel='Density'>"
      ]
     },
     "execution_count": 28,
     "metadata": {},
     "output_type": "execute_result"
    },
    {
     "data": {
      "image/png": "[encoded data removed]",
      "text/plain": [
       "<Figure size 288x504 with 1 Axes>"
      ]
     },
     "metadata": {},
     "output_type": "display_data"
    }
   ],
   "source": [
    "sns.kdeplot(blocks_original)\n",
    "sns.kdeplot(blocks_refactored)"
   ]
  },
  {
   "cell_type": "code",
   "execution_count": 29,
   "id": "9d8a76eb",
   "metadata": {},
   "outputs": [],
   "source": [
    "blocks_mean = []\n",
    "original_blocks_mean = []\n",
    "for project in df['project'].unique():\n",
    "  project_avg = []\n",
    "  project_avg_original = []\n",
    "  # TODO run with all 30 seeds (WARNING: takes around 20-30 minutes)\n",
    "  for seed in range(0, 30):\n",
    "    item = df[\n",
    "      (df['project'] == project)\n",
    "      & (df['seed'] == seed)\n",
    "    ]\n",
    "    minimum = item['blocks'].mean()\n",
    "    minimum_original = item['blocks_without_refactoring'].mean()\n",
    "    project_avg.append(minimum)\n",
    "    project_avg_original.append(minimum_original)\n",
    "  avg = sum(project_avg) / len(project_avg)\n",
    "  avg_original = sum(project_avg_original) / len(project_avg_original)\n",
    "  blocks_mean.append(avg)\n",
    "  original_blocks_mean.append(avg_original)\n",
    "refactored_blocks_mean = {\n",
    "    'Blocks': blocks_mean\n",
    "}\n",
    "refactored_blocks_original_mean = {\n",
    "    'Blocks': original_blocks_mean\n",
    "}\n",
    "refactored_blocks_mean_df = pd.DataFrame(refactored_blocks_mean, columns = ['Blocks'], index=projects)\n",
    "refactored_blocks_mean_df['Program'] = 'Refactored'\n",
    "refactored_blocks_mean_original_df = pd.DataFrame(refactored_blocks_original_mean, columns = ['Blocks'], index=projects)\n",
    "refactored_blocks_mean_original_df['Program'] = 'Original'"
   ]
  },
  {
   "cell_type": "code",
   "execution_count": 30,
   "id": "cc609e72",
   "metadata": {},
   "outputs": [
    {
     "name": "stdout",
     "output_type": "stream",
     "text": [
      "\\newcommand{\\meanBlocksBeforeRefactoringMean}{86.27427427427428}\n",
      "\\newcommand{\\meanBlocksAfterRefactoringMean}{89.2686217301114}\n"
     ]
    }
   ],
   "source": [
    "print(f\"\\\\newcommand{{\\\\meanBlocksBeforeRefactoringMean}}{{{refactored_blocks_mean_original_df.mean()[0]}}}\")\n",
    "print(f\"\\\\newcommand{{\\\\meanBlocksAfterRefactoringMean}}{{{refactored_blocks_mean_df.mean()[0]}}}\")"
   ]
  },
  {
   "cell_type": "markdown",
   "id": "1624fc3f",
   "metadata": {},
   "source": [
    "### Improvements per Objective"
   ]
  },
  {
   "cell_type": "code",
   "execution_count": 31,
   "id": "1d021a71",
   "metadata": {
    "pycharm": {
     "name": "#%%\n"
    }
   },
   "outputs": [],
   "source": [
    "blocks = 'blocks'\n",
    "blocks_without = 'blocks_without_refactoring'\n",
    "complexity = 'average_complexity_fitness'\n",
    "complexity_without = 'average_complexity_fitness_without_refactoring'\n",
    "entropy = 'average_entropy_fitness'\n",
    "entropy_without = 'average_entropy_fitness_without_refactoring'\n",
    "projects = set(df['project'])\n",
    "\n",
    "\n",
    "def a12(lst1,lst2,rev=True):\n",
    "    \"how often is x in lst1 more than y in lst2?\"\n",
    "    more = same = 0.0\n",
    "    for x in lst1:\n",
    "        for y in lst2:\n",
    "            if x==y:\n",
    "                same += 1\n",
    "            elif rev and x > y:\n",
    "                more += 1\n",
    "            elif not rev and x < y:\n",
    "                more += 1\n",
    "    return (more + 0.5*same)/(len(lst1)*len(lst2))\n",
    "\n",
    "\n",
    "def filter_data_frame(df, cols):\n",
    "    return pd.DataFrame(df, columns=cols)\n",
    "\n",
    "\n",
    "def get_combined_effect_size_wilcoxon(df, project, changed_col, unchanged_col):\n",
    "    changed = filter_data_frame(df, ['project', changed_col])\n",
    "    changed = changed[changed['project'] == project]\n",
    "    unchanged = filter_data_frame(df, ['project', unchanged_col])\n",
    "    unchanged = unchanged[unchanged['project'] == project]\n",
    "    changed_data = changed[changed_col]\n",
    "    unchanged_data = unchanged[unchanged_col]\n",
    "    wilcoxon_test = wilcoxon(changed_data, unchanged_data, zero_method=\"zsplit\")\n",
    "    effect_size = a12(changed_data, unchanged_data)\n",
    "    return effect_size, wilcoxon_test.pvalue\n",
    "\n",
    "\n",
    "\n",
    "improved_results = {}\n",
    "for project in projects:\n",
    "    block_result = get_combined_effect_size_wilcoxon(\n",
    "        df, project, blocks, blocks_without\n",
    "    )\n",
    "    complexity_result = get_combined_effect_size_wilcoxon(\n",
    "        df, project, complexity, complexity_without\n",
    "    )\n",
    "    entropy_result = get_combined_effect_size_wilcoxon(\n",
    "        df, project, entropy, entropy_without\n",
    "    )\n",
    "    improved_results[project] = {\n",
    "        'blocksize': block_result,\n",
    "        'complexity': complexity_result,\n",
    "        'entropy': entropy_result,\n",
    "    }\n"
   ]
  },
  {
   "cell_type": "markdown",
   "id": "d259add6",
   "metadata": {},
   "source": [
    "### Improved Single Objective"
   ]
  },
  {
   "cell_type": "code",
   "execution_count": 32,
   "id": "ca1b6332",
   "metadata": {},
   "outputs": [
    {
     "name": "stdout",
     "output_type": "stream",
     "text": [
      "Improved per block size: 119\n",
      "Improved per complexity: 765\n",
      "Improved per entropy:    779\n",
      "Worse per block size: 742\n",
      "Worse per complexity: 94\n",
      "Worse per entropy:    82\n",
      "Average A12 per block size: 0.7325089133082981\n",
      "Average A12 per complexity: 0.21632474540355612\n",
      "Average A12 per entropy: 0.214709901512024\n"
     ]
    }
   ],
   "source": [
    "improved_blocks = 0\n",
    "improved_complexity = 0\n",
    "improved_entropy = 0\n",
    "worse_blocks = 0\n",
    "worse_complexity = 0\n",
    "worse_entropy = 0\n",
    "effect_sizes_blocks = []\n",
    "effect_sizes_complexity = []\n",
    "effect_sizes_entropy = []\n",
    "\n",
    "for project in projects:\n",
    "    improved_result = improved_results[project]\n",
    "    block_result = improved_result['blocksize']\n",
    "    complexity_result = improved_result['complexity']\n",
    "    entropy_result = improved_result['entropy']\n",
    "    \n",
    "    if block_result[0] < 0.5 and block_result[1] < 0.05:\n",
    "        improved_blocks += 1\n",
    "    if block_result[0] > 0.5 and block_result[1] < 0.05:\n",
    "        worse_blocks += 1\n",
    "    if complexity_result[0] < 0.5 and complexity_result[1] < 0.05:\n",
    "        improved_complexity += 1\n",
    "    if complexity_result[0] > 0.5 and complexity_result[1] < 0.05:\n",
    "        worse_complexity += 1\n",
    "    if entropy_result[0] < 0.5 and entropy_result[1] < 0.05:\n",
    "        improved_entropy += 1\n",
    "    if entropy_result[0] > 0.5 and entropy_result[1] < 0.05:\n",
    "        worse_entropy += 1\n",
    "        \n",
    "    effect_sizes_blocks.append(block_result[0])\n",
    "    effect_sizes_complexity.append(complexity_result[0])\n",
    "    effect_sizes_entropy.append(entropy_result[0])\n",
    "        \n",
    "print(f\"Improved per block size: {improved_blocks}\")  # 353\n",
    "print(f\"Improved per complexity: {improved_complexity}\")  # 829\n",
    "print(f\"Improved per entropy:    {improved_entropy}\")  # 832\n",
    "\n",
    "print(f\"Worse per block size: {worse_blocks}\")\n",
    "print(f\"Worse per complexity: {worse_complexity}\")\n",
    "print(f\"Worse per entropy:    {worse_entropy}\")\n",
    "\n",
    "print(f\"Average A12 per block size: {sum(effect_sizes_blocks) / len(effect_sizes_blocks)}\")\n",
    "print(f\"Average A12 per complexity: {sum(effect_sizes_complexity) / len(effect_sizes_complexity)}\")\n",
    "print(f\"Average A12 per entropy: {sum(effect_sizes_entropy) / len(effect_sizes_entropy)}\")"
   ]
  },
  {
   "cell_type": "markdown",
   "id": "874d6dec",
   "metadata": {},
   "source": [
    "### Improved Pairwise Objectives"
   ]
  },
  {
   "cell_type": "code",
   "execution_count": 33,
   "id": "6f2ccfa7",
   "metadata": {
    "pycharm": {
     "name": "#%%\n"
    }
   },
   "outputs": [
    {
     "name": "stdout",
     "output_type": "stream",
     "text": [
      "Improved per block size and complexity: 88\n",
      "Improved per block size and entropy:    86\n",
      "Improved per complexity and entropy:    704\n",
      "Worse per block size and complexity: 63\n",
      "Worse per block size and entropy:    49\n",
      "Worse per complexity and entropy:    21\n",
      "Average A12 per block size and complexity: 0.4744168293559271\n",
      "Average A12 per block size and entropy:    0.47360940741016105\n",
      "Average A12 per complexity and entropy:    0.21551732345779007\n"
     ]
    }
   ],
   "source": [
    "improved_blocks_complexity = 0\n",
    "improved_blocks_entropy = 0\n",
    "improved_complexity_entropy = 0\n",
    "worse_blocks_complexity = 0\n",
    "worse_blocks_entropy = 0\n",
    "worse_complexity_entropy = 0\n",
    "effect_sizes_blocks_complexity = 0.5 * (\n",
    "    sum(effect_sizes_blocks) / len(effect_sizes_blocks)\n",
    "    + sum(effect_sizes_complexity) / len(effect_sizes_complexity)\n",
    ")\n",
    "effect_sizes_blocks_entropy = 0.5 * (\n",
    "    sum(effect_sizes_blocks) / len(effect_sizes_blocks)\n",
    "    + sum(effect_sizes_entropy) / len(effect_sizes_entropy)\n",
    ")\n",
    "effect_sizes_complexity_entropy = 0.5 * (\n",
    "    sum(effect_sizes_complexity) / len(effect_sizes_complexity)\n",
    "    + sum(effect_sizes_entropy) / len(effect_sizes_entropy)\n",
    ")\n",
    "\n",
    "for project in projects:\n",
    "    improved_result = improved_results[project]\n",
    "    block_result = improved_result['blocksize']\n",
    "    complexity_result = improved_result['complexity']\n",
    "    entropy_result = improved_result['entropy']\n",
    "\n",
    "    if (\n",
    "            block_result[0] < 0.5 and block_result[1] < 0.05\n",
    "            and complexity_result[0] < 0.5 and complexity_result[1] < 0.05\n",
    "    ):\n",
    "        improved_blocks_complexity += 1\n",
    "    if (\n",
    "            block_result[0] < 0.5 and block_result[1] < 0.05\n",
    "            and entropy_result[0] < 0.5 and entropy_result[1] < 0.05\n",
    "    ):\n",
    "        improved_blocks_entropy += 1\n",
    "    if (\n",
    "            complexity_result[0] < 0.5 and complexity_result[1] < 0.05\n",
    "            and entropy_result[0] < 0.5 and entropy_result[1] < 0.05\n",
    "    ):\n",
    "        improved_complexity_entropy += 1\n",
    "        \n",
    "    if (\n",
    "        block_result[0] > 0.5 and block_result[1] < 0.05\n",
    "        and complexity_result[0] > 0.5 and complexity_result[1] < 0.05\n",
    "    ):\n",
    "        worse_blocks_complexity += 1\n",
    "    if (\n",
    "        block_result[0] > 0.5 and block_result[1] < 0.05\n",
    "        and entropy_result[0] > 0.5 and entropy_result[1] < 0.05\n",
    "    ):\n",
    "        worse_blocks_entropy += 1\n",
    "    if (\n",
    "        complexity_result[0] > 0.5 and complexity_result[1] < 0.05\n",
    "        and entropy_result[0] > 0.5 and entropy_result[1] < 0.05\n",
    "    ):\n",
    "        worse_complexity_entropy += 1\n",
    "\n",
    "\n",
    "print(f\"Improved per block size and complexity: {improved_blocks_complexity}\")  # 356\n",
    "print(f\"Improved per block size and entropy:    {improved_blocks_entropy}\")  # 357\n",
    "print(f\"Improved per complexity and entropy:    {improved_complexity_entropy}\")  # 799\n",
    "\n",
    "print(f\"Worse per block size and complexity: {worse_blocks_complexity}\")\n",
    "print(f\"Worse per block size and entropy:    {worse_blocks_entropy}\")\n",
    "print(f\"Worse per complexity and entropy:    {worse_complexity_entropy}\")\n",
    "\n",
    "print(f\"Average A12 per block size and complexity: {effect_sizes_blocks_complexity}\")\n",
    "print(f\"Average A12 per block size and entropy:    {effect_sizes_blocks_entropy}\")\n",
    "print(f\"Average A12 per complexity and entropy:    {effect_sizes_complexity_entropy}\")"
   ]
  },
  {
   "cell_type": "markdown",
   "id": "ad87fed4",
   "metadata": {},
   "source": [
    "### Improved over all three Objectives"
   ]
  },
  {
   "cell_type": "code",
   "execution_count": 34,
   "id": "4e53461d",
   "metadata": {
    "pycharm": {
     "name": "#%%\n"
    }
   },
   "outputs": [
    {
     "name": "stdout",
     "output_type": "stream",
     "text": [
      "Improved per all three objectives: 74\n",
      "Worse per all three objectives: 2\n",
      "Average A12 per all three objectives: 0.38784785340795935\n"
     ]
    }
   ],
   "source": [
    "improved_objectives = 0\n",
    "worse_objectives = 0\n",
    "effect_sizes_objectives = 1 / 3 * (\n",
    "    sum(effect_sizes_blocks) / len(effect_sizes_blocks)\n",
    "    + sum(effect_sizes_complexity) / len(effect_sizes_complexity)\n",
    "    + sum(effect_sizes_entropy) / len(effect_sizes_entropy)\n",
    ")\n",
    "for project in projects:\n",
    "    improved_result = improved_results[project]\n",
    "    block_result = improved_result['blocksize']\n",
    "    complexity_result = improved_result['complexity']\n",
    "    entropy_result = improved_result['entropy']\n",
    "\n",
    "    if (\n",
    "            block_result[0] < 0.5 and block_result[1] < 0.05\n",
    "            and complexity_result[0] < 0.5 and complexity_result[1] < 0.05\n",
    "            and entropy_result[0] < 0.5 and entropy_result[1] < 0.05\n",
    "    ):\n",
    "        improved_objectives += 1\n",
    "    if (\n",
    "            block_result[0] > 0.5 and block_result[1] < 0.05\n",
    "            and complexity_result[0] > 0.5 and complexity_result[1] < 0.05\n",
    "            and entropy_result[0] > 0.5 and entropy_result[1] < 0.05\n",
    "    ):\n",
    "        worse_objectives += 1\n",
    "print(f\"Improved per all three objectives: {improved_objectives}\")  # 349\n",
    "print(f\"Worse per all three objectives: {worse_objectives}\")\n",
    "print(f\"Average A12 per all three objectives: {effect_sizes_objectives}\")"
   ]
  },
  {
   "cell_type": "markdown",
   "id": "f2bdc427",
   "metadata": {},
   "source": [
    "### LaTeX Macros for Improvements"
   ]
  },
  {
   "cell_type": "code",
   "execution_count": 35,
   "id": "4089e5ed",
   "metadata": {},
   "outputs": [
    {
     "name": "stdout",
     "output_type": "stream",
     "text": [
      "% Improved Single Objective\n",
      "\\newcommand{\\blocksImproved}{119}\n",
      "\\newcommand{\\complexityImproved}{765}\n",
      "\\newcommand{\\entropyImproved}{779}\n",
      "\\newcommand{\\blocksWorsened}{742}\n",
      "\\newcommand{\\complexityWorsened}{94}\n",
      "\\newcommand{\\entropyWorsened}{82}\n",
      "\\newcommand{\\blocksAvgEffect}{0.7325089133082981}\n",
      "\\newcommand{\\complexityAvgEffect}{0.21632474540355612}\n",
      "\\newcommand{\\entropyAvgEffect}{0.214709901512024}\n",
      "% Improved Pairwise Objectives\n",
      "\\newcommand{\\blocksComplexityImproved}{88}\n",
      "\\newcommand{\\blocksEntropyImproved}{86}\n",
      "\\newcommand{\\complexityEntropyImproved}{704}\n",
      "\\newcommand{\\blocksComplexityWorsened}{63}\n",
      "\\newcommand{\\blocksEntropyWorsened}{49}\n",
      "\\newcommand{\\complexityEntropyWorsened}{21}\n",
      "\\newcommand{\\blocksComplexityAvgEffect}{0.4744168293559271}\n",
      "\\newcommand{\\blocksEntropyAvgEffect}{0.47360940741016105}\n",
      "\\newcommand{\\complexityEntropyAvgEffect}{0.21551732345779007}\n",
      "% Improved over all three Objectives\n",
      "\\newcommand{\\dominatingSolutions}{74}\n",
      "\\newcommand{\\threeObjectivesImproved}{74}\n",
      "\\newcommand{\\threeObjectivesWorsened}{2}\n",
      "\\newcommand{\\threeObjectivesAvgEffect}{0.38784785340795935}\n"
     ]
    }
   ],
   "source": [
    "print(\"% Improved Single Objective\")\n",
    "print(f\"\\\\newcommand{{\\\\blocksImproved}}{{{improved_blocks}}}\")\n",
    "print(f\"\\\\newcommand{{\\\\complexityImproved}}{{{improved_complexity}}}\")\n",
    "print(f\"\\\\newcommand{{\\\\entropyImproved}}{{{improved_entropy}}}\")\n",
    "print(f\"\\\\newcommand{{\\\\blocksWorsened}}{{{worse_blocks}}}\")\n",
    "print(f\"\\\\newcommand{{\\\\complexityWorsened}}{{{worse_complexity}}}\")\n",
    "print(f\"\\\\newcommand{{\\\\entropyWorsened}}{{{worse_entropy}}}\")\n",
    "print(f\"\\\\newcommand{{\\\\blocksAvgEffect}}{{{sum(effect_sizes_blocks) / len(effect_sizes_blocks)}}}\")\n",
    "print(f\"\\\\newcommand{{\\\\complexityAvgEffect}}{{{sum(effect_sizes_complexity) / len(effect_sizes_complexity)}}}\")\n",
    "print(f\"\\\\newcommand{{\\\\entropyAvgEffect}}{{{sum(effect_sizes_entropy) / len(effect_sizes_entropy)}}}\")\n",
    "\n",
    "print(\"% Improved Pairwise Objectives\")\n",
    "print(f\"\\\\newcommand{{\\\\blocksComplexityImproved}}{{{improved_blocks_complexity}}}\")\n",
    "print(f\"\\\\newcommand{{\\\\blocksEntropyImproved}}{{{improved_blocks_entropy}}}\")\n",
    "print(f\"\\\\newcommand{{\\\\complexityEntropyImproved}}{{{improved_complexity_entropy}}}\")\n",
    "print(f\"\\\\newcommand{{\\\\blocksComplexityWorsened}}{{{worse_blocks_complexity}}}\")\n",
    "print(f\"\\\\newcommand{{\\\\blocksEntropyWorsened}}{{{worse_blocks_entropy}}}\")\n",
    "print(f\"\\\\newcommand{{\\\\complexityEntropyWorsened}}{{{worse_complexity_entropy}}}\")\n",
    "print(f\"\\\\newcommand{{\\\\blocksComplexityAvgEffect}}{{{effect_sizes_blocks_complexity}}}\")\n",
    "print(f\"\\\\newcommand{{\\\\blocksEntropyAvgEffect}}{{{effect_sizes_blocks_entropy}}}\")\n",
    "print(f\"\\\\newcommand{{\\\\complexityEntropyAvgEffect}}{{{effect_sizes_complexity_entropy}}}\")\n",
    "\n",
    "print(\"% Improved over all three Objectives\")\n",
    "print(f\"\\\\newcommand{{\\\\dominatingSolutions}}{{{improved_objectives}}}\")\n",
    "print(f\"\\\\newcommand{{\\\\threeObjectivesImproved}}{{{improved_objectives}}}\")\n",
    "print(f\"\\\\newcommand{{\\\\threeObjectivesWorsened}}{{{worse_objectives}}}\")\n",
    "print(f\"\\\\newcommand{{\\\\threeObjectivesAvgEffect}}{{{effect_sizes_objectives}}}\")"
   ]
  },
  {
   "cell_type": "markdown",
   "id": "8b0252c1",
   "metadata": {},
   "source": [
    "### Scripts"
   ]
  },
  {
   "cell_type": "code",
   "execution_count": 36,
   "id": "4e688c82",
   "metadata": {},
   "outputs": [
    {
     "data": {
      "text/html": [
       "<div>\n",
       "<style scoped>\n",
       "    .dataframe tbody tr th:only-of-type {\n",
       "        vertical-align: middle;\n",
       "    }\n",
       "\n",
       "    .dataframe tbody tr th {\n",
       "        vertical-align: top;\n",
       "    }\n",
       "\n",
       "    .dataframe thead th {\n",
       "        text-align: right;\n",
       "    }\n",
       "</style>\n",
       "<table border=\"1\" class=\"dataframe\">\n",
       "  <thead>\n",
       "    <tr style=\"text-align: right;\">\n",
       "      <th></th>\n",
       "      <th>Scripts</th>\n",
       "      <th>Program</th>\n",
       "    </tr>\n",
       "  </thead>\n",
       "  <tbody>\n",
       "    <tr>\n",
       "      <th>401078299_22-05-2021_16-00-53</th>\n",
       "      <td>1.000000</td>\n",
       "      <td>Original</td>\n",
       "    </tr>\n",
       "    <tr>\n",
       "      <th>402115237_25-05-2021_09-52-01</th>\n",
       "      <td>1.000000</td>\n",
       "      <td>Original</td>\n",
       "    </tr>\n",
       "    <tr>\n",
       "      <th>402005109_13-05-2021_17-21-16</th>\n",
       "      <td>12.000000</td>\n",
       "      <td>Original</td>\n",
       "    </tr>\n",
       "    <tr>\n",
       "      <th>400102403_23-05-2021_02-26-45</th>\n",
       "      <td>2.000000</td>\n",
       "      <td>Original</td>\n",
       "    </tr>\n",
       "    <tr>\n",
       "      <th>401043546_21-05-2021_13-25-27</th>\n",
       "      <td>2.000000</td>\n",
       "      <td>Original</td>\n",
       "    </tr>\n",
       "    <tr>\n",
       "      <th>...</th>\n",
       "      <td>...</td>\n",
       "      <td>...</td>\n",
       "    </tr>\n",
       "    <tr>\n",
       "      <th>402172133_28-05-2021_14-12-17</th>\n",
       "      <td>35.000000</td>\n",
       "      <td>Refactored</td>\n",
       "    </tr>\n",
       "    <tr>\n",
       "      <th>402114879_25-05-2021_09-30-39</th>\n",
       "      <td>1.000000</td>\n",
       "      <td>Refactored</td>\n",
       "    </tr>\n",
       "    <tr>\n",
       "      <th>401015599_14-05-2021_01-41-13</th>\n",
       "      <td>2.000000</td>\n",
       "      <td>Refactored</td>\n",
       "    </tr>\n",
       "    <tr>\n",
       "      <th>400070584_22-05-2021_07-25-48</th>\n",
       "      <td>17.000000</td>\n",
       "      <td>Refactored</td>\n",
       "    </tr>\n",
       "    <tr>\n",
       "      <th>400021529_14-05-2021_01-52-43</th>\n",
       "      <td>8.066667</td>\n",
       "      <td>Refactored</td>\n",
       "    </tr>\n",
       "  </tbody>\n",
       "</table>\n",
       "<p>2000 rows × 2 columns</p>\n",
       "</div>"
      ],
      "text/plain": [
       "                                 Scripts     Program\n",
       "401078299_22-05-2021_16-00-53   1.000000    Original\n",
       "402115237_25-05-2021_09-52-01   1.000000    Original\n",
       "402005109_13-05-2021_17-21-16  12.000000    Original\n",
       "400102403_23-05-2021_02-26-45   2.000000    Original\n",
       "401043546_21-05-2021_13-25-27   2.000000    Original\n",
       "...                                  ...         ...\n",
       "402172133_28-05-2021_14-12-17  35.000000  Refactored\n",
       "402114879_25-05-2021_09-30-39   1.000000  Refactored\n",
       "401015599_14-05-2021_01-41-13   2.000000  Refactored\n",
       "400070584_22-05-2021_07-25-48  17.000000  Refactored\n",
       "400021529_14-05-2021_01-52-43   8.066667  Refactored\n",
       "\n",
       "[2000 rows x 2 columns]"
      ]
     },
     "execution_count": 36,
     "metadata": {},
     "output_type": "execute_result"
    }
   ],
   "source": [
    "scripts = []\n",
    "original_scripts = []\n",
    "for project in df['project'].unique():\n",
    "  project_avg = []\n",
    "  project_avg_original = []\n",
    "  for seed in range(0, 30):\n",
    "    item = df[\n",
    "      (df['project'] == project)\n",
    "      & (df['seed'] == seed)\n",
    "    ]\n",
    "    minimum = item['scripts'].min()\n",
    "    minimum_original = item['scripts_without_refactoring'].min()\n",
    "    project_avg.append(minimum)\n",
    "    project_avg_original.append(minimum_original)\n",
    "  avg = sum(project_avg) / len(project_avg)\n",
    "  avg_original = sum(project_avg_original) / len(project_avg_original)\n",
    "  scripts.append(avg)\n",
    "  original_scripts.append(avg_original)\n",
    "refactored_scripts = {\n",
    "    'Scripts': scripts\n",
    "}\n",
    "refactored_scripts_original = {\n",
    "    'Scripts': original_scripts\n",
    "}\n",
    "refactored_scripts_df = pd.DataFrame(refactored_scripts, columns = ['Scripts'], index=projects)\n",
    "refactored_scripts_df['Program'] = 'Refactored'\n",
    "refactored_scripts_original_df = pd.DataFrame(refactored_scripts_original, columns = ['Scripts'], index=projects)\n",
    "refactored_scripts_original_df['Program'] = 'Original'\n",
    "\n",
    "both = pd.concat((refactored_scripts_original_df, refactored_scripts_df))\n",
    "both"
   ]
  },
  {
   "cell_type": "code",
   "execution_count": 37,
   "id": "5f5ab8fc",
   "metadata": {},
   "outputs": [
    {
     "name": "stdout",
     "output_type": "stream",
     "text": [
      "\\newcommand{\\scriptsP}{< 0.001}\n"
     ]
    }
   ],
   "source": [
    "wc = wilcoxon(refactored_scripts_df['Scripts'], refactored_scripts_original_df['Scripts'], zero_method=\"zsplit\")\n",
    "if wc[1] < 0.001:\n",
    "    print(f\"\\\\newcommand{{\\\\scriptsP}}{{< 0.001}}\")\n",
    "else:\n",
    "    print(f\"\\\\newcommand{{\\\\scriptsP}}{{{wc[1]}}}\")"
   ]
  },
  {
   "cell_type": "code",
   "execution_count": 38,
   "id": "d00559f4",
   "metadata": {},
   "outputs": [
    {
     "data": {
      "image/png": "[encoded data removed]",
      "text/plain": [
       "<Figure size 288x504 with 1 Axes>"
      ]
     },
     "metadata": {},
     "output_type": "display_data"
    }
   ],
   "source": [
    "sns.boxplot(x = 'Program', y = 'Scripts', data=both)\n",
    "scripts_plot = sns.boxplot(x = 'Program', y = 'Scripts', data=both)\n",
    "scripts_plot.get_figure().savefig(\"../pictures/evaluation/Scripts.pdf\", bbox_inches=\"tight\")"
   ]
  },
  {
   "cell_type": "code",
   "execution_count": 39,
   "id": "b0fc9171",
   "metadata": {},
   "outputs": [
    {
     "data": {
      "image/png": "[encoded data removed]",
      "text/plain": [
       "<Figure size 288x504 with 1 Axes>"
      ]
     },
     "metadata": {},
     "output_type": "display_data"
    }
   ],
   "source": [
    "diff = df.groupby('project')['scripts'].min().subtract(df.groupby('project')['scripts_without_refactoring'].min()).to_frame(name = 'Scripts')\n",
    "scripts_diff_plot = sns.boxplot(data = diff['Scripts'])\n",
    "scripts_diff_plot.get_figure().savefig(\"../pictures/evaluation/ScriptsDiff.pdf\", bbox_inches=\"tight\")"
   ]
  },
  {
   "cell_type": "markdown",
   "id": "1a3947cf",
   "metadata": {},
   "source": [
    "\n",
    "#### Average mean of scripts in refactored and non-refactored projects"
   ]
  },
  {
   "cell_type": "code",
   "execution_count": 40,
   "id": "61703b23",
   "metadata": {},
   "outputs": [
    {
     "name": "stdout",
     "output_type": "stream",
     "text": [
      "without refactoring average mean of scripts: 12.404\n",
      "with refactoring average mean of scripts: 14.696706477151562\n",
      "difference between average means of scripts: 2.2927064771515617\n"
     ]
    }
   ],
   "source": [
    "project_avg = []\n",
    "project_avg_original = []\n",
    "for project in df['project'].unique():\n",
    "  item = df[\n",
    "    (df['project'] == project)\n",
    "  ]\n",
    "  mean = item['scripts'].mean()\n",
    "  mean_original = item['scripts_without_refactoring'].mean()\n",
    "  project_avg.append(mean)\n",
    "  project_avg_original.append(mean_original)\n",
    "avg = sum(project_avg) / len(project_avg)\n",
    "avg_original = sum(project_avg_original) / len(project_avg_original)\n",
    "print(f\"without refactoring average mean of scripts: {avg_original}\")\n",
    "print(f\"with refactoring average mean of scripts: {avg}\")\n",
    "print(f\"difference between average means of scripts: {avg - avg_original}\")"
   ]
  },
  {
   "cell_type": "code",
   "execution_count": 41,
   "id": "e3c730a4",
   "metadata": {},
   "outputs": [],
   "source": [
    "# mannwhitneyu_scripts_sum = 0\n",
    "# for seed in range(0, 30):\n",
    "#     refactored_scripts = df[df['seed'] == seed].groupby('project')['scripts'].min().to_frame(name = 'Scripts')\n",
    "#     original_scripts   = df[df['seed'] == seed].groupby('project')['scripts_without_refactoring'].min().to_frame(name = 'Scripts')\n",
    "#     refactored_scripts['Program'] = 'Refactored'\n",
    "#     original_scripts['Program'] = 'Original'\n",
    "#     result = mannwhitneyu(original_scripts['Scripts'], refactored_scripts['Scripts'])\n",
    "#     mannwhitneyu_scripts_sum += result[1]\n",
    "#     print(f\"seed: {seed}; mannwhitneyu: {result[1]}\")\n",
    "# print(f\"average: {mannwhitneyu_scripts_sum / 30}\")"
   ]
  },
  {
   "cell_type": "markdown",
   "id": "a2e96792",
   "metadata": {},
   "source": [
    "### Long Script Smells"
   ]
  },
  {
   "cell_type": "code",
   "execution_count": 42,
   "id": "7220b051",
   "metadata": {},
   "outputs": [
    {
     "data": {
      "text/html": [
       "<div>\n",
       "<style scoped>\n",
       "    .dataframe tbody tr th:only-of-type {\n",
       "        vertical-align: middle;\n",
       "    }\n",
       "\n",
       "    .dataframe tbody tr th {\n",
       "        vertical-align: top;\n",
       "    }\n",
       "\n",
       "    .dataframe thead th {\n",
       "        text-align: right;\n",
       "    }\n",
       "</style>\n",
       "<table border=\"1\" class=\"dataframe\">\n",
       "  <thead>\n",
       "    <tr style=\"text-align: right;\">\n",
       "      <th></th>\n",
       "      <th>Long Scripts</th>\n",
       "      <th>Program</th>\n",
       "    </tr>\n",
       "  </thead>\n",
       "  <tbody>\n",
       "    <tr>\n",
       "      <th>401078299_22-05-2021_16-00-53</th>\n",
       "      <td>0.0</td>\n",
       "      <td>Original</td>\n",
       "    </tr>\n",
       "    <tr>\n",
       "      <th>402115237_25-05-2021_09-52-01</th>\n",
       "      <td>0.0</td>\n",
       "      <td>Original</td>\n",
       "    </tr>\n",
       "    <tr>\n",
       "      <th>402005109_13-05-2021_17-21-16</th>\n",
       "      <td>4.0</td>\n",
       "      <td>Original</td>\n",
       "    </tr>\n",
       "    <tr>\n",
       "      <th>400102403_23-05-2021_02-26-45</th>\n",
       "      <td>0.0</td>\n",
       "      <td>Original</td>\n",
       "    </tr>\n",
       "    <tr>\n",
       "      <th>401043546_21-05-2021_13-25-27</th>\n",
       "      <td>1.0</td>\n",
       "      <td>Original</td>\n",
       "    </tr>\n",
       "    <tr>\n",
       "      <th>...</th>\n",
       "      <td>...</td>\n",
       "      <td>...</td>\n",
       "    </tr>\n",
       "    <tr>\n",
       "      <th>402172133_28-05-2021_14-12-17</th>\n",
       "      <td>2.0</td>\n",
       "      <td>Refactored</td>\n",
       "    </tr>\n",
       "    <tr>\n",
       "      <th>402114879_25-05-2021_09-30-39</th>\n",
       "      <td>1.0</td>\n",
       "      <td>Refactored</td>\n",
       "    </tr>\n",
       "    <tr>\n",
       "      <th>401015599_14-05-2021_01-41-13</th>\n",
       "      <td>2.0</td>\n",
       "      <td>Refactored</td>\n",
       "    </tr>\n",
       "    <tr>\n",
       "      <th>400070584_22-05-2021_07-25-48</th>\n",
       "      <td>0.0</td>\n",
       "      <td>Refactored</td>\n",
       "    </tr>\n",
       "    <tr>\n",
       "      <th>400021529_14-05-2021_01-52-43</th>\n",
       "      <td>1.0</td>\n",
       "      <td>Refactored</td>\n",
       "    </tr>\n",
       "  </tbody>\n",
       "</table>\n",
       "<p>2000 rows × 2 columns</p>\n",
       "</div>"
      ],
      "text/plain": [
       "                               Long Scripts     Program\n",
       "401078299_22-05-2021_16-00-53           0.0    Original\n",
       "402115237_25-05-2021_09-52-01           0.0    Original\n",
       "402005109_13-05-2021_17-21-16           4.0    Original\n",
       "400102403_23-05-2021_02-26-45           0.0    Original\n",
       "401043546_21-05-2021_13-25-27           1.0    Original\n",
       "...                                     ...         ...\n",
       "402172133_28-05-2021_14-12-17           2.0  Refactored\n",
       "402114879_25-05-2021_09-30-39           1.0  Refactored\n",
       "401015599_14-05-2021_01-41-13           2.0  Refactored\n",
       "400070584_22-05-2021_07-25-48           0.0  Refactored\n",
       "400021529_14-05-2021_01-52-43           1.0  Refactored\n",
       "\n",
       "[2000 rows x 2 columns]"
      ]
     },
     "execution_count": 42,
     "metadata": {},
     "output_type": "execute_result"
    }
   ],
   "source": [
    "long_scripts = []\n",
    "original_long_scripts = []\n",
    "for project in df['project'].unique():\n",
    "  project_avg = []\n",
    "  project_avg_original = []\n",
    "  # TODO run with all 30 seeds (WARNING: takes around 20-30 minutes)\n",
    "  for seed in range(0, 30):\n",
    "    item = df[\n",
    "      (df['project'] == project)\n",
    "      & (df['seed'] == seed)\n",
    "    ]\n",
    "    minimum = item['long_scripts'].min()\n",
    "    minimum_original = item['long_scripts_without_refactoring'].min()\n",
    "    project_avg.append(minimum)\n",
    "    project_avg_original.append(minimum_original)\n",
    "  avg = sum(project_avg) / len(project_avg)\n",
    "  avg_original = sum(project_avg_original) / len(project_avg_original)\n",
    "  long_scripts.append(avg)\n",
    "  original_long_scripts.append(avg_original)\n",
    "refactored_long_scripts = {\n",
    "    'Long Scripts': long_scripts\n",
    "}\n",
    "refactored_long_scripts_original = {\n",
    "    'Long Scripts': original_long_scripts\n",
    "}\n",
    "refactored_long_scripts_df = pd.DataFrame(refactored_long_scripts, columns = ['Long Scripts'], index=projects)\n",
    "refactored_long_scripts_df['Program'] = 'Refactored'\n",
    "refactored_long_scripts_original_df = pd.DataFrame(refactored_long_scripts_original, columns = ['Long Scripts'], index=projects)\n",
    "refactored_long_scripts_original_df['Program'] = 'Original'\n",
    "\n",
    "both = pd.concat((refactored_long_scripts_original_df, refactored_long_scripts_df))\n",
    "both"
   ]
  },
  {
   "cell_type": "code",
   "execution_count": 43,
   "id": "442a18e1",
   "metadata": {},
   "outputs": [
    {
     "name": "stdout",
     "output_type": "stream",
     "text": [
      "\\newcommand{\\longscriptsAfterRefactoring}{694.8333333333333}\n"
     ]
    }
   ],
   "source": [
    "print(f\"\\\\newcommand{{\\\\longscriptsAfterRefactoring}}{{{refactored_long_scripts_df.sum()[0]}}}\")"
   ]
  },
  {
   "cell_type": "code",
   "execution_count": 44,
   "id": "76ab810a",
   "metadata": {},
   "outputs": [
    {
     "name": "stdout",
     "output_type": "stream",
     "text": [
      "\\newcommand{\\longscriptsBeforeRefactoring}{860.0}\n"
     ]
    }
   ],
   "source": [
    "print(f\"\\\\newcommand{{\\\\longscriptsBeforeRefactoring}}{{{refactored_long_scripts_original_df.sum()[0]}}}\")"
   ]
  },
  {
   "cell_type": "code",
   "execution_count": 45,
   "id": "84f2786d",
   "metadata": {},
   "outputs": [
    {
     "name": "stdout",
     "output_type": "stream",
     "text": [
      "\\newcommand{\\longscriptsDiff}{165.16666666666674}\n"
     ]
    }
   ],
   "source": [
    "print(f\"\\\\newcommand{{\\\\longscriptsDiff}}{{{refactored_long_scripts_original_df.sum()[0] - refactored_long_scripts_df.sum()[0]}}}\")"
   ]
  },
  {
   "cell_type": "code",
   "execution_count": 46,
   "id": "62f1f537",
   "metadata": {},
   "outputs": [
    {
     "name": "stdout",
     "output_type": "stream",
     "text": [
      "\\newcommand{\\longscriptsP}{< 0.001}\n"
     ]
    }
   ],
   "source": [
    "wc = wilcoxon(refactored_long_scripts_df['Long Scripts'], refactored_long_scripts_original_df['Long Scripts'], zero_method=\"zsplit\")\n",
    "if wc[1] < 0.001:\n",
    "    print(f\"\\\\newcommand{{\\\\longscriptsP}}{{< 0.001}}\")\n",
    "else:\n",
    "    print(f\"\\\\newcommand{{\\\\longscriptsP}}{{{wc[1]}}}\")"
   ]
  },
  {
   "cell_type": "markdown",
   "id": "a16157ae",
   "metadata": {},
   "source": [
    "#### Mean of long scripts of refactored and non-refactored solutions"
   ]
  },
  {
   "cell_type": "code",
   "execution_count": 47,
   "id": "868d9647",
   "metadata": {},
   "outputs": [
    {
     "name": "stdout",
     "output_type": "stream",
     "text": [
      "without refactoring average mean of long_scripts: 0.877\n",
      "with refactoring average mean of long_scripts: 0.839206115638659\n",
      "difference between average means of long_scripts: 0.03779388436134101\n",
      "percentage : 0.03779388436134101\n"
     ]
    }
   ],
   "source": [
    "project_avg = []\n",
    "project_avg_original = []\n",
    "for project in df['project'].unique():\n",
    "  item = df[\n",
    "    (df['project'] == project)\n",
    "  ]\n",
    "  mean = item['long_scripts'].mean()\n",
    "  mean_original = item['long_scripts_without_refactoring'].mean()\n",
    "  project_avg.append(mean)\n",
    "  project_avg_original.append(mean_original)\n",
    "avg = sum(project_avg) / len(project_avg)\n",
    "avg_original = sum(project_avg_original) / len(project_avg_original)\n",
    "print(f\"without refactoring average mean of long_scripts: {avg_original}\")\n",
    "print(f\"with refactoring average mean of long_scripts: {avg}\")\n",
    "print(f\"difference between average means of long_scripts: {avg_original - avg}\")\n",
    "print(f\"percentage : {avg_original - avg}\")"
   ]
  },
  {
   "cell_type": "code",
   "execution_count": 48,
   "id": "d7ffaadb",
   "metadata": {},
   "outputs": [
    {
     "data": {
      "image/png": "[encoded data removed]",
      "text/plain": [
       "<Figure size 288x504 with 1 Axes>"
      ]
     },
     "metadata": {},
     "output_type": "display_data"
    }
   ],
   "source": [
    "long_scripts_plot = sns.boxplot(x = 'Program', y = 'Long Scripts', data=both)\n",
    "long_scripts_plot.get_figure().savefig(\"../pictures/evaluation/LongScripts.pdf\", bbox_inches=\"tight\")"
   ]
  },
  {
   "cell_type": "code",
   "execution_count": 49,
   "id": "fad3a138",
   "metadata": {},
   "outputs": [
    {
     "data": {
      "image/png": "[encoded data removed]",
      "text/plain": [
       "<Figure size 288x504 with 1 Axes>"
      ]
     },
     "metadata": {},
     "output_type": "display_data"
    }
   ],
   "source": [
    "diff = df.groupby('project')['long_scripts'].min().subtract(df.groupby('project')['long_scripts_without_refactoring'].min())\n",
    "long_scripts_diff_plot = sns.boxplot(data = diff)\n",
    "long_scripts_diff_plot.get_figure().savefig(\"../pictures/evaluation/LongScriptsDiff.pdf\", bbox_inches=\"tight\")"
   ]
  },
  {
   "cell_type": "code",
   "execution_count": 50,
   "id": "6728fd9a",
   "metadata": {},
   "outputs": [],
   "source": [
    "# mannwhitneyu_long_scripts_sum = 0\n",
    "# for seed in range(0, 30):\n",
    "#     refactored_long_scripts = df[df['seed'] == seed].groupby('project')['long_scripts'].min().to_frame(name = 'Long Scripts')\n",
    "#     original_long_scripts   = df[df['seed'] == seed].groupby('project')['long_scripts_without_refactoring'].min().to_frame(name = 'Long Scripts')\n",
    "#     refactored_long_scripts['Program'] = 'Refactored'\n",
    "#     original_long_scripts['Program'] = 'Original'\n",
    "#     result = mannwhitneyu(original_long_scripts['Long Scripts'], refactored_long_scripts['Long Scripts'])\n",
    "#     mannwhitneyu_long_scripts_sum += result[1]\n",
    "#     print(f\"seed: {seed}; mannwhitneyu: {result[1]}\")\n",
    "# print(f\"average: {mannwhitneyu_long_scripts_sum / 30}\")"
   ]
  },
  {
   "cell_type": "code",
   "execution_count": 51,
   "id": "28bec32e",
   "metadata": {},
   "outputs": [],
   "source": [
    "# sum(original_smells['Long Scripts'])"
   ]
  },
  {
   "cell_type": "code",
   "execution_count": 52,
   "id": "e35b3a87",
   "metadata": {},
   "outputs": [],
   "source": [
    "# sum(refactored_smells['Long Scripts'])"
   ]
  },
  {
   "cell_type": "markdown",
   "id": "8f7189bb",
   "metadata": {},
   "source": [
    "### Mean of refactorings applied"
   ]
  },
  {
   "cell_type": "code",
   "execution_count": 53,
   "id": "9cb509da",
   "metadata": {},
   "outputs": [
    {
     "name": "stdout",
     "output_type": "stream",
     "text": [
      "mean refactorings applied over all projects: 10.074041192566897\n"
     ]
    }
   ],
   "source": [
    "refactoring_names = [\"conjunction_to_ifs\", \"conjunction_to_ifelse\", \"disjunction_to_ifelse\", \"extract_loop_condition\", \"extract_event_handler\", \"forever_if_to_wait_until\",\n",
    "                    \"forever_wait_to_forever_if\", \"ifs_to_conjunction\", \"ififelse_to_conjunction\", \"ifelse_to_disjunction\", \"ifelse_to_ififnot\", \"ififnot_to_ifelse\",\n",
    "                    \"inline_loop_condition\", \"loop_unrolling\", \"merge_double_if\", \"merge_event_handler\", \"merge_loops\",\n",
    "                    \"merge_scripts\", \"merge_scripts_after_until\", \"sequence_to_loop\", \"split_if\", \"split_loop\", \"split_script\",\n",
    "                    \"split_slice\", \"swap_statements\", \"split_script_after_until\"]\n",
    "\n",
    "executed_refactorings_mean_sum = 0\n",
    "project_avg = []\n",
    "project_avg_original = []\n",
    "for project in df['project'].unique():\n",
    "  item = df[\n",
    "    (df['project'] == project)\n",
    "  ]\n",
    "  executed_refactorings = item[refactoring_names].apply(sum, axis=1)\n",
    "  executed_refactorings_mean = executed_refactorings.mean()\n",
    "  project_avg.append(executed_refactorings_mean)\n",
    "avg_refactorings = sum(project_avg) / len(project_avg)\n",
    "print(f\"mean refactorings applied over all projects: {avg_refactorings}\")"
   ]
  },
  {
   "cell_type": "markdown",
   "id": "e7d1a295",
   "metadata": {},
   "source": [
    "### Number of refactorings applied"
   ]
  },
  {
   "cell_type": "code",
   "execution_count": 54,
   "id": "7a77b376",
   "metadata": {},
   "outputs": [
    {
     "name": "stdout",
     "output_type": "stream",
     "text": [
      "conjunction to ifelse:  0.04861297848768335\n",
      "if if not to if else:  0.04948576778512537\n",
      "if if not to if else (count):  3572\n",
      "if if else to conjunction:  0.04948576778512537\n",
      "extract independent subscripts:  16.357041199949517\n",
      "split script:  16.473454667670236\n",
      "merge scripts:  16.757055774145403\n",
      "swap statements:  25.95603330841035\n"
     ]
    },
    {
     "data": {
      "image/png": "[encoded data removed]",
      "text/plain": [
       "<Figure size 432x288 with 1 Axes>"
      ]
     },
     "metadata": {},
     "output_type": "display_data"
    }
   ],
   "source": [
    "conjunction_to_ifs = sum(list(map(int, df.conjunction_to_ifs.to_list())))\n",
    "conjunction_to_ifelse = sum(list(map(int, df.conjunction_to_ifelse.to_list())))\n",
    "disjunction_to_ifelse = sum(list(map(int, df.disjunction_to_ifelse.to_list())))\n",
    "extract_loop_condition = sum(list(map(int, df.extract_loop_condition.to_list())))\n",
    "extract_event_handler = sum(list(map(int, df.extract_event_handler.to_list())))\n",
    "forever_if_to_wait_until = sum(list(map(int, df.forever_if_to_wait_until.to_list())))\n",
    "forever_wait_to_forever_if = sum(list(map(int, df.forever_wait_to_forever_if.to_list())))\n",
    "ifs_to_conjunction = sum(list(map(int, df.ifs_to_conjunction.to_list())))\n",
    "ififelse_to_conjunction = sum(list(map(int, df.ififelse_to_conjunction.to_list())))\n",
    "ifelse_to_disjunction = sum(list(map(int, df.ifelse_to_disjunction.to_list())))\n",
    "ifelse_to_ififnot = sum(list(map(int, df.ifelse_to_ififnot.to_list())))\n",
    "ififnot_to_ifelse = sum(list(map(int, df.ififelse_to_conjunction.to_list())))\n",
    "inline_loop_condition = sum(list(map(int, df.inline_loop_condition.to_list())))\n",
    "loop_unrolling = sum(list(map(int, df.loop_unrolling.to_list())))\n",
    "merge_double_if = sum(list(map(int, df.merge_double_if.to_list())))\n",
    "merge_event_handler = sum(list(map(int, df.merge_event_handler.to_list())))\n",
    "merge_loops = sum(list(map(int, df.merge_loops.to_list())))\n",
    "merge_scripts = sum(list(map(int, df.merge_scripts.to_list())))\n",
    "merge_scripts_after_until = sum(list(map(int, df.merge_scripts_after_until.to_list())))\n",
    "sequence_to_loop = sum(list(map(int, df.sequence_to_loop.to_list())))\n",
    "split_if = sum(list(map(int, df.split_if.to_list())))\n",
    "split_loop = sum(list(map(int, df.split_loop.to_list())))\n",
    "split_script = sum(list(map(int, df.split_script.to_list())))\n",
    "split_slice = sum(list(map(int, df.split_slice.to_list())))\n",
    "swap_statements = sum(list(map(int, df.swap_statements.to_list())))\n",
    "split_script_after_until = sum(list(map(int, df.split_script_after_until.to_list())))\n",
    "refactoring_values_absolute = [conjunction_to_ifs, conjunction_to_ifelse, disjunction_to_ifelse, extract_loop_condition, extract_event_handler, forever_if_to_wait_until,\n",
    "                     forever_wait_to_forever_if, ifs_to_conjunction, ififelse_to_conjunction, ifelse_to_disjunction, ifelse_to_ififnot, ififnot_to_ifelse,\n",
    "                     inline_loop_condition, loop_unrolling, merge_double_if, merge_event_handler, merge_loops, merge_scripts,\n",
    "                     merge_scripts_after_until, sequence_to_loop, split_if, split_loop, split_script, split_slice, swap_statements, split_script_after_until]\n",
    "executed_refactorings = df[refactoring_names].apply(sum, axis=1)\n",
    "sum_executed_refactorings = sum(executed_refactorings)\n",
    "refactoring_values = map(lambda x : (x * 100) / sum_executed_refactorings, refactoring_values_absolute)\n",
    "refactoring_labels = [\"Conjunction to Ifs\", \"Conjunction to If If Else\", \"Disjunction to If Else\", \"Extract Loop Condition\", \"Extract Events from Forever\", \"Forever If to Forever Wait\",\n",
    "                    \"Forever Wait to Forever If\", \"Ifs to Conjunction\", \"If If Else to Conjunction\", \"If Else to Disjunction\", \"If Else to If If Not\", \"If If Not to If Else\",\n",
    "                    \"Inline Loop Condition\", \"Loop Unrolling\", \"Merge Double If\", \"Merge Events Into Forever\", \"Merge Loops\",\n",
    "                    \"Merge Scripts\", \"Merge Scripts After Until\", \"Sequence to Loop\", \"Split If Body\", \"Split Loop\", \"Split Script\",\n",
    "                    \"Extract Independent Subscripts\", \"Swap Statements\", \"Split Script After Until\"]\n",
    "refactoring_data = pd.DataFrame(list(zip(refactoring_values, refactoring_labels)), columns =['value', 'transformation'])\n",
    "\n",
    "sns.set(rc={'figure.figsize':(6,4)})\n",
    "sns.set_theme(style=\"white\", font_scale=1.4)\n",
    "\n",
    "refactorings_applied_plot = sns.barplot(data = refactoring_data, x = \"value\", y = \"transformation\", order=refactoring_data.sort_values('value').transformation, log=True)\n",
    "refactorings_applied_plot.set(xlabel='Relative frequency (%)', ylabel=None)\n",
    "# todo remove the downscaling of the fontsize=11 as soon as we can increase the space between the bars\n",
    "refactorings_applied_plot.set_yticklabels(refactorings_applied_plot.get_yticklabels(), fontsize=10)\n",
    "\n",
    "#def change_height(ax, new_value) :\n",
    "#    for patch in ax.patches:\n",
    "#        current_height = patch.get_height()\n",
    "#        diff = current_height - new_value\n",
    "#        patch.set_height(new_value)\n",
    "#        patch.set_y(patch.get_y() + diff * 0.5)\n",
    "# change_height(refactorings_applied_plot, 2) # todo only makes bars higher but does not create space between them\n",
    "\n",
    "#def change_width(ax, new_value) :\n",
    "#    for patch in ax.patches:\n",
    "#        current_width = patch.get_width()\n",
    "#        diff = current_width - new_value\n",
    "#        patch.set_width(new_value)\n",
    "#        patch.set_x(patch.get_x() + diff * 0.5)\n",
    "#change_width(refactorings_applied_plot, 2) # todo only makes bars wider but does not create space between them\n",
    "\n",
    "\n",
    "print(\"conjunction to ifelse: \", (conjunction_to_ifelse * 100)/sum_executed_refactorings)\n",
    "print(\"if if not to if else: \", (ififnot_to_ifelse * 100)/sum_executed_refactorings)\n",
    "print(\"if if not to if else (count): \", ififnot_to_ifelse)\n",
    "print(\"if if else to conjunction: \", (ififelse_to_conjunction * 100)/sum_executed_refactorings)\n",
    "print(\"extract independent subscripts: \", (split_slice * 100)/sum_executed_refactorings)\n",
    "print(\"split script: \", (split_script * 100)/sum_executed_refactorings)\n",
    "print(\"merge scripts: \", (merge_scripts * 100)/sum_executed_refactorings)\n",
    "print(\"swap statements: \", (swap_statements * 100)/sum_executed_refactorings)\n",
    "\n",
    "refactorings_applied_plot.get_figure().savefig(\"../pictures/evaluation/TransformationsApplied.pdf\", bbox_inches=\"tight\")"
   ]
  },
  {
   "cell_type": "code",
   "execution_count": 55,
   "id": "b207a305",
   "metadata": {},
   "outputs": [
    {
     "name": "stdout",
     "output_type": "stream",
     "text": [
      "\\newcommand{\\transformationsmean}{10.074041192566897}\n",
      "\\newcommand{\\transformationscount}{7218237}\n",
      "\\newcommand{\\swapcount}{1873568\\xspace}\n",
      "\\newcommand{\\swappercent}{\\SI{25.95603330841035}{\\percent}\\xspace}\n",
      "\\newcommand{\\mergescriptscount}{1209564\\xspace}\n",
      "\\newcommand{\\mergescriptspercent}{\\SI{16.757055774145403}{\\percent}\\xspace}\n",
      "\\newcommand{\\splitslicecount}{1180690\\xspace}\n",
      "\\newcommand{\\splitslicepercent}{\\SI{16.357041199949517}{\\percent}\\xspace}\n",
      "\\newcommand{\\splitscriptcount}{1189093\\xspace}\n",
      "\\newcommand{\\splitscriptpercent}{\\SI{16.473454667670236}{\\percent}\\xspace}\n",
      "\\newcommand{\\ififelsetoconjunctioncount}{3572\\xspace}\n",
      "\\newcommand{\\ififelsetoconjunctionpercent}{\\SI{0.04948576778512537}{\\percent}\\xspace}\n",
      "\\newcommand{\\ififnottoifelsecount}{3572\\xspace}\n",
      "\\newcommand{\\ififnottoifelsepercent}{\\SI{0.04948576778512537}{\\percent}\\xspace}\n",
      "\\newcommand{\\conjunctiontoifelsecount}{3509\\xspace}\n",
      "\\newcommand{\\conjunctiontoifelsepercent}{\\SI{0.04861297848768335}{\\percent}\\xspace}\n"
     ]
    }
   ],
   "source": [
    "print(f\"\\\\newcommand{{\\\\transformationsmean}}{{{avg_refactorings}}}\")\n",
    "print(f\"\\\\newcommand{{\\\\transformationscount}}{{{sum_executed_refactorings}}}\")\n",
    "print(f\"\\\\newcommand{{\\\\swapcount}}{{{swap_statements}\\\\xspace}}\")\n",
    "print(f\"\\\\newcommand{{\\\\swappercent}}{{\\\\SI{{{(swap_statements * 100)/sum_executed_refactorings}}}{{\\\\percent}}\\\\xspace}}\")\n",
    "\n",
    "print(f\"\\\\newcommand{{\\\\mergescriptscount}}{{{merge_scripts}\\\\xspace}}\")\n",
    "print(f\"\\\\newcommand{{\\\\mergescriptspercent}}{{\\\\SI{{{(merge_scripts * 100)/sum_executed_refactorings}}}{{\\\\percent}}\\\\xspace}}\")\n",
    "\n",
    "print(f\"\\\\newcommand{{\\\\splitslicecount}}{{{split_slice}\\\\xspace}}\")\n",
    "print(f\"\\\\newcommand{{\\\\splitslicepercent}}{{\\\\SI{{{(split_slice * 100)/sum_executed_refactorings}}}{{\\\\percent}}\\\\xspace}}\")\n",
    "\n",
    "print(f\"\\\\newcommand{{\\\\splitscriptcount}}{{{split_script}\\\\xspace}}\")\n",
    "print(f\"\\\\newcommand{{\\\\splitscriptpercent}}{{\\\\SI{{{(split_script * 100)/sum_executed_refactorings}}}{{\\\\percent}}\\\\xspace}}\")\n",
    "\n",
    "print(f\"\\\\newcommand{{\\\\ififelsetoconjunctioncount}}{{{ififelse_to_conjunction}\\\\xspace}}\")\n",
    "print(f\"\\\\newcommand{{\\\\ififelsetoconjunctionpercent}}{{\\\\SI{{{(ififelse_to_conjunction * 100)/sum_executed_refactorings}}}{{\\\\percent}}\\\\xspace}}\")\n",
    "\n",
    "print(f\"\\\\newcommand{{\\\\ififnottoifelsecount}}{{{ififnot_to_ifelse}\\\\xspace}}\")\n",
    "print(f\"\\\\newcommand{{\\\\ififnottoifelsepercent}}{{\\\\SI{{{(ififnot_to_ifelse * 100)/sum_executed_refactorings}}}{{\\\\percent}}\\\\xspace}}\")\n",
    "\n",
    "print(f\"\\\\newcommand{{\\\\conjunctiontoifelsecount}}{{{conjunction_to_ifelse}\\\\xspace}}\")\n",
    "print(f\"\\\\newcommand{{\\\\conjunctiontoifelsepercent}}{{\\\\SI{{{(conjunction_to_ifelse * 100)/sum_executed_refactorings}}}{{\\\\percent}}\\\\xspace}}\")"
   ]
  },
  {
   "cell_type": "markdown",
   "id": "6d5b7d31",
   "metadata": {},
   "source": [
    "### Visualising pareto fronts\n",
    "\n",
    "Warning, this may take long since it produces on plot per project"
   ]
  },
  {
   "cell_type": "code",
   "execution_count": 56,
   "id": "df2106fc",
   "metadata": {
    "scrolled": true
   },
   "outputs": [],
   "source": [
    "### Commented out for this large csv out of mercy for my machine ###\n",
    "\n",
    "#fig, ax = plt.subplots()\n",
    "#g = sns.FacetGrid(df, col=\"project\", col_wrap=5, sharex=False, sharey=False)\n",
    "#g.map(sns.scatterplot, \"average_complexity_fitness\", \"average_entropy_fitness\", ax=ax, s=100, alpha=.7)\n",
    "#g.map(sns.scatterplot, \"average_complexity_fitness_without_refactoring\", \"average_entropy_fitness_without_refactoring\", ax=ax, color=\"red\", s=100, alpha=.5)\n",
    "#g.set_axis_labels( \"Complexity\" , \"Entropy\" )\n",
    "#plt.savefig('/tmp/results_avg_20.pdf')"
   ]
  }
 ],
 "metadata": {
  "interpreter": {
   "hash": "916dbcbb3f70747c44a77c7bcd40155683ae19c65e1c03b4aa3499c5328201f1"
  },
  "kernelspec": {
   "display_name": "Python 3",
   "language": "python",
   "name": "python3"
  },
  "language_info": {
   "codemirror_mode": {
    "name": "ipython",
    "version": 3
   },
   "file_extension": ".py",
   "mimetype": "text/x-python",
   "name": "python",
   "nbconvert_exporter": "python",
   "pygments_lexer": "ipython3",
   "version": "3.9.5"
  }
 },
 "nbformat": 4,
 "nbformat_minor": 5
}
